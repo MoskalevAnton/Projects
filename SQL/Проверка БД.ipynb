{
 "cells": [
  {
   "cell_type": "markdown",
   "metadata": {},
   "source": [
    "# Задача - проанализировать базу данных"
   ]
  },
  {
   "cell_type": "markdown",
   "metadata": {},
   "source": [
    "# Вывод - база данных работает исправно, запросы выполняются, связи между таблицами настроены корректно. "
   ]
  },
  {
   "cell_type": "markdown",
   "metadata": {},
   "source": [
    "# Декомпозиция\n",
    "Задача\n",
    "Вывод\n",
    "1 Шаг. Подключение к БД и предобработка данных\n",
    "    \n",
    "    * Подключение к БД\n",
    "    * Проверка на пропуски\n",
    "    * Проверка на дубликаты\n",
    "    * Просмотр таблиц\n",
    "    * Проверка названий столбцов\n",
    "    * Вывод по шагу\n",
    "    \n",
    "    \n",
    "2 Шаг. Проверка работоспособности БД\n",
    "\n",
    "    Проверка на выполнение различных запросов\n",
    "    \n",
    "    2.1 Количество книг, которые вышли после 1 января 2000 года;\n",
    "    2.2 Количество обзоров и средняя оценка для каждой книги;\n",
    "    2.3 Издательство, которое выпустило наибольшее число книг толще 50 страниц;\n",
    "    2.4 Автор с самой высокой средней оценкой книг(учитывая только книги с 50 и более оценками);\n",
    "    2.5 Среднее количество обзоров от пользователей, которые поставили больше 50 оценок. \n",
    "    \n",
    "3 Шаг. Вывод\n",
    "    "
   ]
  },
  {
   "cell_type": "markdown",
   "metadata": {},
   "source": [
    "<a id=\"1\"></a> \n",
    "## Шаг. Подключение к БД и предобработка данных"
   ]
  },
  {
   "cell_type": "code",
   "execution_count": 1,
   "metadata": {},
   "outputs": [],
   "source": [
    "# импортируем библиотеки\n",
    "import pandas as pd\n",
    "from sqlalchemy import create_engine\n"
   ]
  },
  {
   "cell_type": "code",
   "execution_count": 2,
   "metadata": {},
   "outputs": [],
   "source": [
    "# устанавливаем параметры\n",
    "db_config = {'user': '*', # имя пользователя\n",
    "             'pwd': '*', # пароль\n",
    "             'host': '*',\n",
    "             'port': *, # порт подключения\n",
    "             'db': '*'} # название базы данных\n",
    "connection_string = 'postgresql://{}:{}@{}:{}/{}'.format(db_config['user'],\n",
    "                                                  db_config['pwd'],\n",
    "                                                  db_config['host'],\n",
    "                                                  db_config['port'],\n",
    "                                                  db_config['db'])\n",
    "# сохраняем коннектор\n",
    "engine = create_engine(connection_string, connect_args={'sslmode':'require'}) "
   ]
  },
  {
   "cell_type": "code",
   "execution_count": 3,
   "metadata": {},
   "outputs": [],
   "source": [
    "#просматривать таблицы будем через цикл\n",
    "def review(tabl):\n",
    "    query = 'SELECT * FROM ' + tabl\n",
    "    df = pd.io.sql.read_sql(query, con=engine)\n",
    "    print(f'Пропусков: {df.isna().sum().sum()}')\n",
    "    print(f'Дубликатов: {df.duplicated().sum()}')\n",
    "    display(df.head())"
   ]
  },
  {
   "cell_type": "code",
   "execution_count": 4,
   "metadata": {},
   "outputs": [
    {
     "name": "stdout",
     "output_type": "stream",
     "text": [
      "Пропусков: 0\n",
      "Дубликатов: 0\n"
     ]
    },
    {
     "data": {
      "text/html": [
       "<div>\n",
       "<style scoped>\n",
       "    .dataframe tbody tr th:only-of-type {\n",
       "        vertical-align: middle;\n",
       "    }\n",
       "\n",
       "    .dataframe tbody tr th {\n",
       "        vertical-align: top;\n",
       "    }\n",
       "\n",
       "    .dataframe thead th {\n",
       "        text-align: right;\n",
       "    }\n",
       "</style>\n",
       "<table border=\"1\" class=\"dataframe\">\n",
       "  <thead>\n",
       "    <tr style=\"text-align: right;\">\n",
       "      <th></th>\n",
       "      <th>book_id</th>\n",
       "      <th>author_id</th>\n",
       "      <th>title</th>\n",
       "      <th>num_pages</th>\n",
       "      <th>publication_date</th>\n",
       "      <th>publisher_id</th>\n",
       "    </tr>\n",
       "  </thead>\n",
       "  <tbody>\n",
       "    <tr>\n",
       "      <th>0</th>\n",
       "      <td>1</td>\n",
       "      <td>546</td>\n",
       "      <td>'Salem's Lot</td>\n",
       "      <td>594</td>\n",
       "      <td>2005-11-01</td>\n",
       "      <td>93</td>\n",
       "    </tr>\n",
       "    <tr>\n",
       "      <th>1</th>\n",
       "      <td>2</td>\n",
       "      <td>465</td>\n",
       "      <td>1 000 Places to See Before You Die</td>\n",
       "      <td>992</td>\n",
       "      <td>2003-05-22</td>\n",
       "      <td>336</td>\n",
       "    </tr>\n",
       "    <tr>\n",
       "      <th>2</th>\n",
       "      <td>3</td>\n",
       "      <td>407</td>\n",
       "      <td>13 Little Blue Envelopes (Little Blue Envelope...</td>\n",
       "      <td>322</td>\n",
       "      <td>2010-12-21</td>\n",
       "      <td>135</td>\n",
       "    </tr>\n",
       "    <tr>\n",
       "      <th>3</th>\n",
       "      <td>4</td>\n",
       "      <td>82</td>\n",
       "      <td>1491: New Revelations of the Americas Before C...</td>\n",
       "      <td>541</td>\n",
       "      <td>2006-10-10</td>\n",
       "      <td>309</td>\n",
       "    </tr>\n",
       "    <tr>\n",
       "      <th>4</th>\n",
       "      <td>5</td>\n",
       "      <td>125</td>\n",
       "      <td>1776</td>\n",
       "      <td>386</td>\n",
       "      <td>2006-07-04</td>\n",
       "      <td>268</td>\n",
       "    </tr>\n",
       "  </tbody>\n",
       "</table>\n",
       "</div>"
      ],
      "text/plain": [
       "   book_id  author_id                                              title  \\\n",
       "0        1        546                                       'Salem's Lot   \n",
       "1        2        465                 1 000 Places to See Before You Die   \n",
       "2        3        407  13 Little Blue Envelopes (Little Blue Envelope...   \n",
       "3        4         82  1491: New Revelations of the Americas Before C...   \n",
       "4        5        125                                               1776   \n",
       "\n",
       "   num_pages publication_date  publisher_id  \n",
       "0        594       2005-11-01            93  \n",
       "1        992       2003-05-22           336  \n",
       "2        322       2010-12-21           135  \n",
       "3        541       2006-10-10           309  \n",
       "4        386       2006-07-04           268  "
      ]
     },
     "metadata": {},
     "output_type": "display_data"
    }
   ],
   "source": [
    "review('books')"
   ]
  },
  {
   "cell_type": "markdown",
   "metadata": {},
   "source": [
    "Таблица books содержит данные о книгах:\n",
    "* book_id — идентификатор книги;\n",
    "* author_id — идентификатор автора;\n",
    "* title — название книги;\n",
    "* num_pages — количество страниц;\n",
    "* publication_date — дата публикации книги;\n",
    "* publisher_id — идентификатор издателя."
   ]
  },
  {
   "cell_type": "code",
   "execution_count": 5,
   "metadata": {},
   "outputs": [
    {
     "name": "stdout",
     "output_type": "stream",
     "text": [
      "Пропусков: 0\n",
      "Дубликатов: 0\n"
     ]
    },
    {
     "data": {
      "text/html": [
       "<div>\n",
       "<style scoped>\n",
       "    .dataframe tbody tr th:only-of-type {\n",
       "        vertical-align: middle;\n",
       "    }\n",
       "\n",
       "    .dataframe tbody tr th {\n",
       "        vertical-align: top;\n",
       "    }\n",
       "\n",
       "    .dataframe thead th {\n",
       "        text-align: right;\n",
       "    }\n",
       "</style>\n",
       "<table border=\"1\" class=\"dataframe\">\n",
       "  <thead>\n",
       "    <tr style=\"text-align: right;\">\n",
       "      <th></th>\n",
       "      <th>author_id</th>\n",
       "      <th>author</th>\n",
       "    </tr>\n",
       "  </thead>\n",
       "  <tbody>\n",
       "    <tr>\n",
       "      <th>0</th>\n",
       "      <td>1</td>\n",
       "      <td>A.S. Byatt</td>\n",
       "    </tr>\n",
       "    <tr>\n",
       "      <th>1</th>\n",
       "      <td>2</td>\n",
       "      <td>Aesop/Laura Harris/Laura Gibbs</td>\n",
       "    </tr>\n",
       "    <tr>\n",
       "      <th>2</th>\n",
       "      <td>3</td>\n",
       "      <td>Agatha Christie</td>\n",
       "    </tr>\n",
       "    <tr>\n",
       "      <th>3</th>\n",
       "      <td>4</td>\n",
       "      <td>Alan Brennert</td>\n",
       "    </tr>\n",
       "    <tr>\n",
       "      <th>4</th>\n",
       "      <td>5</td>\n",
       "      <td>Alan Moore/David   Lloyd</td>\n",
       "    </tr>\n",
       "  </tbody>\n",
       "</table>\n",
       "</div>"
      ],
      "text/plain": [
       "   author_id                          author\n",
       "0          1                      A.S. Byatt\n",
       "1          2  Aesop/Laura Harris/Laura Gibbs\n",
       "2          3                 Agatha Christie\n",
       "3          4                   Alan Brennert\n",
       "4          5        Alan Moore/David   Lloyd"
      ]
     },
     "metadata": {},
     "output_type": "display_data"
    }
   ],
   "source": [
    "review('authors')"
   ]
  },
  {
   "cell_type": "markdown",
   "metadata": {},
   "source": [
    "Таблица authors cодержит данные об авторах:\n",
    "* author_id — идентификатор автора;\n",
    "* author — имя автора."
   ]
  },
  {
   "cell_type": "code",
   "execution_count": 6,
   "metadata": {},
   "outputs": [
    {
     "name": "stdout",
     "output_type": "stream",
     "text": [
      "Пропусков: 0\n",
      "Дубликатов: 0\n"
     ]
    },
    {
     "data": {
      "text/html": [
       "<div>\n",
       "<style scoped>\n",
       "    .dataframe tbody tr th:only-of-type {\n",
       "        vertical-align: middle;\n",
       "    }\n",
       "\n",
       "    .dataframe tbody tr th {\n",
       "        vertical-align: top;\n",
       "    }\n",
       "\n",
       "    .dataframe thead th {\n",
       "        text-align: right;\n",
       "    }\n",
       "</style>\n",
       "<table border=\"1\" class=\"dataframe\">\n",
       "  <thead>\n",
       "    <tr style=\"text-align: right;\">\n",
       "      <th></th>\n",
       "      <th>publisher_id</th>\n",
       "      <th>publisher</th>\n",
       "    </tr>\n",
       "  </thead>\n",
       "  <tbody>\n",
       "    <tr>\n",
       "      <th>0</th>\n",
       "      <td>1</td>\n",
       "      <td>Ace</td>\n",
       "    </tr>\n",
       "    <tr>\n",
       "      <th>1</th>\n",
       "      <td>2</td>\n",
       "      <td>Ace Book</td>\n",
       "    </tr>\n",
       "    <tr>\n",
       "      <th>2</th>\n",
       "      <td>3</td>\n",
       "      <td>Ace Books</td>\n",
       "    </tr>\n",
       "    <tr>\n",
       "      <th>3</th>\n",
       "      <td>4</td>\n",
       "      <td>Ace Hardcover</td>\n",
       "    </tr>\n",
       "    <tr>\n",
       "      <th>4</th>\n",
       "      <td>5</td>\n",
       "      <td>Addison Wesley Publishing Company</td>\n",
       "    </tr>\n",
       "  </tbody>\n",
       "</table>\n",
       "</div>"
      ],
      "text/plain": [
       "   publisher_id                          publisher\n",
       "0             1                                Ace\n",
       "1             2                           Ace Book\n",
       "2             3                          Ace Books\n",
       "3             4                      Ace Hardcover\n",
       "4             5  Addison Wesley Publishing Company"
      ]
     },
     "metadata": {},
     "output_type": "display_data"
    }
   ],
   "source": [
    "review('publishers')"
   ]
  },
  {
   "cell_type": "markdown",
   "metadata": {},
   "source": [
    "Таблица publishers содержит данные об издательствах:\n",
    "* publisher_id — идентификатор издательства;\n",
    "* publisher — название издательства;"
   ]
  },
  {
   "cell_type": "code",
   "execution_count": 7,
   "metadata": {},
   "outputs": [
    {
     "name": "stdout",
     "output_type": "stream",
     "text": [
      "Пропусков: 0\n",
      "Дубликатов: 0\n"
     ]
    },
    {
     "data": {
      "text/html": [
       "<div>\n",
       "<style scoped>\n",
       "    .dataframe tbody tr th:only-of-type {\n",
       "        vertical-align: middle;\n",
       "    }\n",
       "\n",
       "    .dataframe tbody tr th {\n",
       "        vertical-align: top;\n",
       "    }\n",
       "\n",
       "    .dataframe thead th {\n",
       "        text-align: right;\n",
       "    }\n",
       "</style>\n",
       "<table border=\"1\" class=\"dataframe\">\n",
       "  <thead>\n",
       "    <tr style=\"text-align: right;\">\n",
       "      <th></th>\n",
       "      <th>rating_id</th>\n",
       "      <th>book_id</th>\n",
       "      <th>username</th>\n",
       "      <th>rating</th>\n",
       "    </tr>\n",
       "  </thead>\n",
       "  <tbody>\n",
       "    <tr>\n",
       "      <th>0</th>\n",
       "      <td>1</td>\n",
       "      <td>1</td>\n",
       "      <td>ryanfranco</td>\n",
       "      <td>4</td>\n",
       "    </tr>\n",
       "    <tr>\n",
       "      <th>1</th>\n",
       "      <td>2</td>\n",
       "      <td>1</td>\n",
       "      <td>grantpatricia</td>\n",
       "      <td>2</td>\n",
       "    </tr>\n",
       "    <tr>\n",
       "      <th>2</th>\n",
       "      <td>3</td>\n",
       "      <td>1</td>\n",
       "      <td>brandtandrea</td>\n",
       "      <td>5</td>\n",
       "    </tr>\n",
       "    <tr>\n",
       "      <th>3</th>\n",
       "      <td>4</td>\n",
       "      <td>2</td>\n",
       "      <td>lorichen</td>\n",
       "      <td>3</td>\n",
       "    </tr>\n",
       "    <tr>\n",
       "      <th>4</th>\n",
       "      <td>5</td>\n",
       "      <td>2</td>\n",
       "      <td>mariokeller</td>\n",
       "      <td>2</td>\n",
       "    </tr>\n",
       "  </tbody>\n",
       "</table>\n",
       "</div>"
      ],
      "text/plain": [
       "   rating_id  book_id       username  rating\n",
       "0          1        1     ryanfranco       4\n",
       "1          2        1  grantpatricia       2\n",
       "2          3        1   brandtandrea       5\n",
       "3          4        2       lorichen       3\n",
       "4          5        2    mariokeller       2"
      ]
     },
     "metadata": {},
     "output_type": "display_data"
    }
   ],
   "source": [
    "review('ratings')"
   ]
  },
  {
   "cell_type": "markdown",
   "metadata": {},
   "source": [
    "Таблица ratings содержит данные о пользовательских оценках книг:\n",
    "* rating_id — идентификатор оценки;\n",
    "* book_id — идентификатор книги;\n",
    "* username — имя пользователя, оставившего оценку;\n",
    "* rating — оценка книги."
   ]
  },
  {
   "cell_type": "code",
   "execution_count": 8,
   "metadata": {},
   "outputs": [
    {
     "name": "stdout",
     "output_type": "stream",
     "text": [
      "Пропусков: 0\n",
      "Дубликатов: 0\n"
     ]
    },
    {
     "data": {
      "text/html": [
       "<div>\n",
       "<style scoped>\n",
       "    .dataframe tbody tr th:only-of-type {\n",
       "        vertical-align: middle;\n",
       "    }\n",
       "\n",
       "    .dataframe tbody tr th {\n",
       "        vertical-align: top;\n",
       "    }\n",
       "\n",
       "    .dataframe thead th {\n",
       "        text-align: right;\n",
       "    }\n",
       "</style>\n",
       "<table border=\"1\" class=\"dataframe\">\n",
       "  <thead>\n",
       "    <tr style=\"text-align: right;\">\n",
       "      <th></th>\n",
       "      <th>review_id</th>\n",
       "      <th>book_id</th>\n",
       "      <th>username</th>\n",
       "      <th>text</th>\n",
       "    </tr>\n",
       "  </thead>\n",
       "  <tbody>\n",
       "    <tr>\n",
       "      <th>0</th>\n",
       "      <td>1</td>\n",
       "      <td>1</td>\n",
       "      <td>brandtandrea</td>\n",
       "      <td>Mention society tell send professor analysis. ...</td>\n",
       "    </tr>\n",
       "    <tr>\n",
       "      <th>1</th>\n",
       "      <td>2</td>\n",
       "      <td>1</td>\n",
       "      <td>ryanfranco</td>\n",
       "      <td>Foot glass pretty audience hit themselves. Amo...</td>\n",
       "    </tr>\n",
       "    <tr>\n",
       "      <th>2</th>\n",
       "      <td>3</td>\n",
       "      <td>2</td>\n",
       "      <td>lorichen</td>\n",
       "      <td>Listen treat keep worry. Miss husband tax but ...</td>\n",
       "    </tr>\n",
       "    <tr>\n",
       "      <th>3</th>\n",
       "      <td>4</td>\n",
       "      <td>3</td>\n",
       "      <td>johnsonamanda</td>\n",
       "      <td>Finally month interesting blue could nature cu...</td>\n",
       "    </tr>\n",
       "    <tr>\n",
       "      <th>4</th>\n",
       "      <td>5</td>\n",
       "      <td>3</td>\n",
       "      <td>scotttamara</td>\n",
       "      <td>Nation purpose heavy give wait song will. List...</td>\n",
       "    </tr>\n",
       "  </tbody>\n",
       "</table>\n",
       "</div>"
      ],
      "text/plain": [
       "   review_id  book_id       username  \\\n",
       "0          1        1   brandtandrea   \n",
       "1          2        1     ryanfranco   \n",
       "2          3        2       lorichen   \n",
       "3          4        3  johnsonamanda   \n",
       "4          5        3    scotttamara   \n",
       "\n",
       "                                                text  \n",
       "0  Mention society tell send professor analysis. ...  \n",
       "1  Foot glass pretty audience hit themselves. Amo...  \n",
       "2  Listen treat keep worry. Miss husband tax but ...  \n",
       "3  Finally month interesting blue could nature cu...  \n",
       "4  Nation purpose heavy give wait song will. List...  "
      ]
     },
     "metadata": {},
     "output_type": "display_data"
    }
   ],
   "source": [
    "review('reviews')"
   ]
  },
  {
   "cell_type": "markdown",
   "metadata": {},
   "source": [
    "Таблица reviews содержит данные о пользовательских обзорах:\n",
    "* review_id — идентификатор обзора;\n",
    "* book_id — идентификатор книги;\n",
    "* username — имя автора обзора;\n",
    "* text — текст обзора."
   ]
  },
  {
   "attachments": {
    "image.png": {
     "image/png": "[encoded data removed]"
    }
   },
   "cell_type": "markdown",
   "metadata": {},
   "source": [
    "<a id=\"11\"></a> \n",
    "### Вывод по 1 шагу\n",
    "\n",
    "В ходе выполнения первого шага были проделаны следующие действия:\n",
    "\n",
    "    * Подключение к базе данных\n",
    "    * проверка на пропуски (отсутствуют)\n",
    "    * проверка на дубликаты (отсутствуют)  \n",
    "    * просмотр первых 5 строк и названия столбцов \n",
    "В распоряжении имеетя база данных:\n",
    "![image.png](attachment:image.png)\n",
    "\n",
    "\n",
    "    "
   ]
  },
  {
   "cell_type": "markdown",
   "metadata": {},
   "source": [
    "<a id=\"2\"></a>\n",
    "## Шаг. Проверка работоспособности БД"
   ]
  },
  {
   "cell_type": "markdown",
   "metadata": {},
   "source": [
    "<a id=\"21\"></a> \n",
    "### Количество книг, которые вышли после 1 января 2000 года"
   ]
  },
  {
   "cell_type": "code",
   "execution_count": 9,
   "metadata": {},
   "outputs": [
    {
     "data": {
      "text/html": [
       "<div>\n",
       "<style scoped>\n",
       "    .dataframe tbody tr th:only-of-type {\n",
       "        vertical-align: middle;\n",
       "    }\n",
       "\n",
       "    .dataframe tbody tr th {\n",
       "        vertical-align: top;\n",
       "    }\n",
       "\n",
       "    .dataframe thead th {\n",
       "        text-align: right;\n",
       "    }\n",
       "</style>\n",
       "<table border=\"1\" class=\"dataframe\">\n",
       "  <thead>\n",
       "    <tr style=\"text-align: right;\">\n",
       "      <th></th>\n",
       "      <th>count</th>\n",
       "    </tr>\n",
       "  </thead>\n",
       "  <tbody>\n",
       "    <tr>\n",
       "      <th>0</th>\n",
       "      <td>819</td>\n",
       "    </tr>\n",
       "  </tbody>\n",
       "</table>\n",
       "</div>"
      ],
      "text/plain": [
       "   count\n",
       "0    819"
      ]
     },
     "execution_count": 9,
     "metadata": {},
     "output_type": "execute_result"
    }
   ],
   "source": [
    "query = \"\"\"\n",
    "SELECT COUNT(*)\n",
    "FROM books\n",
    "WHERE CAST(publication_date AS date) > '2000-01-01'\n",
    ";\n",
    "\"\"\"\n",
    "\n",
    "pd.io.sql.read_sql(query, con=engine)"
   ]
  },
  {
   "cell_type": "markdown",
   "metadata": {},
   "source": [
    "<a id=\"22\"></a> \n",
    "### Количество обзоров каждой книги и ее средняя оценка"
   ]
  },
  {
   "cell_type": "code",
   "execution_count": 10,
   "metadata": {},
   "outputs": [
    {
     "data": {
      "text/html": [
       "<div>\n",
       "<style scoped>\n",
       "    .dataframe tbody tr th:only-of-type {\n",
       "        vertical-align: middle;\n",
       "    }\n",
       "\n",
       "    .dataframe tbody tr th {\n",
       "        vertical-align: top;\n",
       "    }\n",
       "\n",
       "    .dataframe thead th {\n",
       "        text-align: right;\n",
       "    }\n",
       "</style>\n",
       "<table border=\"1\" class=\"dataframe\">\n",
       "  <thead>\n",
       "    <tr style=\"text-align: right;\">\n",
       "      <th></th>\n",
       "      <th>book_id</th>\n",
       "      <th>колво_обзоров</th>\n",
       "      <th>средняя_оценка</th>\n",
       "    </tr>\n",
       "  </thead>\n",
       "  <tbody>\n",
       "    <tr>\n",
       "      <th>0</th>\n",
       "      <td>652</td>\n",
       "      <td>4</td>\n",
       "      <td>4.500000</td>\n",
       "    </tr>\n",
       "    <tr>\n",
       "      <th>1</th>\n",
       "      <td>273</td>\n",
       "      <td>4</td>\n",
       "      <td>4.500000</td>\n",
       "    </tr>\n",
       "    <tr>\n",
       "      <th>2</th>\n",
       "      <td>51</td>\n",
       "      <td>60</td>\n",
       "      <td>4.250000</td>\n",
       "    </tr>\n",
       "    <tr>\n",
       "      <th>3</th>\n",
       "      <td>951</td>\n",
       "      <td>4</td>\n",
       "      <td>4.000000</td>\n",
       "    </tr>\n",
       "    <tr>\n",
       "      <th>4</th>\n",
       "      <td>839</td>\n",
       "      <td>28</td>\n",
       "      <td>4.285714</td>\n",
       "    </tr>\n",
       "    <tr>\n",
       "      <th>...</th>\n",
       "      <td>...</td>\n",
       "      <td>...</td>\n",
       "      <td>...</td>\n",
       "    </tr>\n",
       "    <tr>\n",
       "      <th>995</th>\n",
       "      <td>64</td>\n",
       "      <td>52</td>\n",
       "      <td>4.230769</td>\n",
       "    </tr>\n",
       "    <tr>\n",
       "      <th>996</th>\n",
       "      <td>55</td>\n",
       "      <td>4</td>\n",
       "      <td>5.000000</td>\n",
       "    </tr>\n",
       "    <tr>\n",
       "      <th>997</th>\n",
       "      <td>148</td>\n",
       "      <td>21</td>\n",
       "      <td>3.428571</td>\n",
       "    </tr>\n",
       "    <tr>\n",
       "      <th>998</th>\n",
       "      <td>790</td>\n",
       "      <td>4</td>\n",
       "      <td>3.500000</td>\n",
       "    </tr>\n",
       "    <tr>\n",
       "      <th>999</th>\n",
       "      <td>828</td>\n",
       "      <td>4</td>\n",
       "      <td>3.000000</td>\n",
       "    </tr>\n",
       "  </tbody>\n",
       "</table>\n",
       "<p>1000 rows × 3 columns</p>\n",
       "</div>"
      ],
      "text/plain": [
       "     book_id  колво_обзоров  средняя_оценка\n",
       "0        652              4        4.500000\n",
       "1        273              4        4.500000\n",
       "2         51             60        4.250000\n",
       "3        951              4        4.000000\n",
       "4        839             28        4.285714\n",
       "..       ...            ...             ...\n",
       "995       64             52        4.230769\n",
       "996       55              4        5.000000\n",
       "997      148             21        3.428571\n",
       "998      790              4        3.500000\n",
       "999      828              4        3.000000\n",
       "\n",
       "[1000 rows x 3 columns]"
      ]
     },
     "execution_count": 10,
     "metadata": {},
     "output_type": "execute_result"
    }
   ],
   "source": [
    "query = \"\"\"\n",
    "SELECT b.book_id,\n",
    "       COUNT(re.review_id) as колво_обзоров,\n",
    "       AVG(ra.rating) as средняя_оценка\n",
    "FROM books b\n",
    "    FULL JOIN reviews re ON b.book_id = re.book_id\n",
    "    FULL JOIN ratings ra ON b.book_id = ra.book_id\n",
    "        \n",
    "GROUP BY b.book_id\n",
    "\n",
    ";\n",
    "\"\"\"\n",
    "\n",
    "pd.io.sql.read_sql(query, con=engine)\n",
    "\n"
   ]
  },
  {
   "cell_type": "markdown",
   "metadata": {},
   "source": [
    "<a id=\"23\"></a> \n",
    "### Издательство, которое выпустило наибольшее число книг толще 50 страниц"
   ]
  },
  {
   "cell_type": "code",
   "execution_count": 11,
   "metadata": {
    "scrolled": true
   },
   "outputs": [
    {
     "data": {
      "text/html": [
       "<div>\n",
       "<style scoped>\n",
       "    .dataframe tbody tr th:only-of-type {\n",
       "        vertical-align: middle;\n",
       "    }\n",
       "\n",
       "    .dataframe tbody tr th {\n",
       "        vertical-align: top;\n",
       "    }\n",
       "\n",
       "    .dataframe thead th {\n",
       "        text-align: right;\n",
       "    }\n",
       "</style>\n",
       "<table border=\"1\" class=\"dataframe\">\n",
       "  <thead>\n",
       "    <tr style=\"text-align: right;\">\n",
       "      <th></th>\n",
       "      <th>publisher</th>\n",
       "    </tr>\n",
       "  </thead>\n",
       "  <tbody>\n",
       "    <tr>\n",
       "      <th>0</th>\n",
       "      <td>Penguin Books</td>\n",
       "    </tr>\n",
       "  </tbody>\n",
       "</table>\n",
       "</div>"
      ],
      "text/plain": [
       "       publisher\n",
       "0  Penguin Books"
      ]
     },
     "execution_count": 11,
     "metadata": {},
     "output_type": "execute_result"
    }
   ],
   "source": [
    "query = \"\"\"\n",
    "WITH pub AS (\n",
    "    SELECT p.publisher,\n",
    "           count(b.book_id)       \n",
    "    FROM books b\n",
    "        JOIN publishers p ON b.publisher_id = p.publisher_id     \n",
    "    WHERE b.num_pages > 50\n",
    "    GROUP BY p.publisher\n",
    "    ORDER BY count DESC)\n",
    "\n",
    "SELECT publisher\n",
    "FROM pub\n",
    "LIMIT 1\n",
    "\n",
    ";\n",
    "\"\"\"\n",
    "\n",
    "pd.io.sql.read_sql(query, con=engine)"
   ]
  },
  {
   "cell_type": "markdown",
   "metadata": {},
   "source": [
    "<a id=\"24\"></a> \n",
    "### Автор с самой высокой средней оценкой книг(учитывая только книги с 50 и более оценками)"
   ]
  },
  {
   "cell_type": "code",
   "execution_count": 12,
   "metadata": {},
   "outputs": [
    {
     "data": {
      "text/html": [
       "<div>\n",
       "<style scoped>\n",
       "    .dataframe tbody tr th:only-of-type {\n",
       "        vertical-align: middle;\n",
       "    }\n",
       "\n",
       "    .dataframe tbody tr th {\n",
       "        vertical-align: top;\n",
       "    }\n",
       "\n",
       "    .dataframe thead th {\n",
       "        text-align: right;\n",
       "    }\n",
       "</style>\n",
       "<table border=\"1\" class=\"dataframe\">\n",
       "  <thead>\n",
       "    <tr style=\"text-align: right;\">\n",
       "      <th></th>\n",
       "      <th>author</th>\n",
       "    </tr>\n",
       "  </thead>\n",
       "  <tbody>\n",
       "    <tr>\n",
       "      <th>0</th>\n",
       "      <td>J.K. Rowling/Mary GrandPré</td>\n",
       "    </tr>\n",
       "  </tbody>\n",
       "</table>\n",
       "</div>"
      ],
      "text/plain": [
       "                       author\n",
       "0  J.K. Rowling/Mary GrandPré"
      ]
     },
     "execution_count": 12,
     "metadata": {},
     "output_type": "execute_result"
    }
   ],
   "source": [
    "query = \"\"\"\n",
    "\n",
    "WITH temp AS\n",
    "    (SELECT b.book_id,\n",
    "        COUNT(r.rating_id),\n",
    "        AVG(r.rating),\n",
    "        b.author_id\n",
    "    FROM books b\n",
    "        JOIN ratings r ON b.book_id = r.book_id\n",
    "    GROUP BY b.book_id\n",
    "    ),\n",
    "    \n",
    "    authors_avg AS(\n",
    "    SElECT t.author_id,\n",
    "        AVG(t.avg)\n",
    "    FROM temp t\n",
    "    WHERE count > 49\n",
    "    GROUP BY t.author_id)\n",
    "\n",
    "SELECT a.author\n",
    "FROM authors_avg aa\n",
    "    JOIN authors a ON a.author_id = aa.author_id    \n",
    "ORDER BY aa.avg DESC\n",
    "LIMIT 1\n",
    ";\n",
    "\"\"\"\n",
    "\n",
    "pd.io.sql.read_sql(query, con=engine)"
   ]
  },
  {
   "cell_type": "markdown",
   "metadata": {},
   "source": [
    "<a id=\"25\"></a> \n",
    "### Среднее количество обзоров от пользователей, которые поставили больше 50 оценок"
   ]
  },
  {
   "cell_type": "code",
   "execution_count": 13,
   "metadata": {},
   "outputs": [
    {
     "data": {
      "text/html": [
       "<div>\n",
       "<style scoped>\n",
       "    .dataframe tbody tr th:only-of-type {\n",
       "        vertical-align: middle;\n",
       "    }\n",
       "\n",
       "    .dataframe tbody tr th {\n",
       "        vertical-align: top;\n",
       "    }\n",
       "\n",
       "    .dataframe thead th {\n",
       "        text-align: right;\n",
       "    }\n",
       "</style>\n",
       "<table border=\"1\" class=\"dataframe\">\n",
       "  <thead>\n",
       "    <tr style=\"text-align: right;\">\n",
       "      <th></th>\n",
       "      <th>round</th>\n",
       "    </tr>\n",
       "  </thead>\n",
       "  <tbody>\n",
       "    <tr>\n",
       "      <th>0</th>\n",
       "      <td>24.33</td>\n",
       "    </tr>\n",
       "  </tbody>\n",
       "</table>\n",
       "</div>"
      ],
      "text/plain": [
       "   round\n",
       "0  24.33"
      ]
     },
     "execution_count": 13,
     "metadata": {},
     "output_type": "execute_result"
    }
   ],
   "source": [
    "#count_ratings - пользователь и кол-во его оценок\n",
    "#users - пользователи которые поставили больше 50 оценок\n",
    "#count_reviews - users + колво их обзоров\n",
    "query = \"\"\"\n",
    "WITH count_ratings AS(\n",
    "    SELECT username,\n",
    "       COUNT(rating_id)   \n",
    "    FROM ratings\n",
    "    GROUP BY username\n",
    "    ),\n",
    "    \n",
    "    users AS (\n",
    "    SELECT username\n",
    "    FROM count_ratings\n",
    "    WHERE count > 50\n",
    "    ),\n",
    "    \n",
    "    count_reviews AS(\n",
    "    SELECT COUNT(*),\n",
    "       u.username\n",
    "    FROM users u\n",
    "        JOIN reviews r ON u.username = r.username\n",
    "    GROUP BY u.username\n",
    "    )\n",
    "    \n",
    "SELECT ROUND(AVG(count),2)\n",
    "FROM count_reviews\n",
    "    \n",
    "\n",
    ";\n",
    "\"\"\"\n",
    "\n",
    "pd.io.sql.read_sql(query, con=engine)"
   ]
  },
  {
   "cell_type": "markdown",
   "metadata": {},
   "source": [
    "<a id=\"3\"></a> \n",
    "## Шаг. Вывод"
   ]
  },
  {
   "cell_type": "markdown",
   "metadata": {},
   "source": [
    "В ходе выполнения проекта мы выяснили\n",
    "\n",
    "    1) БД работает исправно, запросы выполняются, связи между таблицами настроены корректно.\n",
    "    2) В базе хранятся 819книг вышедших в 21веке.\n",
    "    3) 994 книги имеют хотя бы один отзыв и одну оценку.\n",
    "    4) Больше всего книг, которые есть в нашей библиотеке, выпустило издательство 'Penguin Books'.\n",
    "    5) Писательница J.K. Rowling и иллюстратор Mary GrandPré за свои книги награждены самой высокой средней оценкой. \n",
    "    6) Читатели которые ставят много оценок (больше 50), часто пишут обзоры, в среднем по 24,3 шт на пользователя.\n"
   ]
  }
 ],
 "metadata": {
  "ExecuteTimeLog": [
   {
    "duration": 500,
    "start_time": "2022-12-24T07:35:38.345Z"
   },
   {
    "duration": 4369,
    "start_time": "2022-12-24T07:35:38.847Z"
   },
   {
    "duration": 45,
    "start_time": "2022-12-24T22:06:13.846Z"
   },
   {
    "duration": 593,
    "start_time": "2022-12-24T22:06:15.590Z"
   },
   {
    "duration": 4727,
    "start_time": "2022-12-24T22:06:16.186Z"
   },
   {
    "duration": 305,
    "start_time": "2022-12-24T22:06:20.915Z"
   },
   {
    "duration": 123,
    "start_time": "2022-12-24T22:06:46.303Z"
   },
   {
    "duration": 121,
    "start_time": "2022-12-24T22:10:06.816Z"
   },
   {
    "duration": 117,
    "start_time": "2022-12-24T22:10:22.616Z"
   },
   {
    "duration": 3,
    "start_time": "2022-12-24T22:11:26.128Z"
   },
   {
    "duration": 4,
    "start_time": "2022-12-24T22:11:26.440Z"
   },
   {
    "duration": 289,
    "start_time": "2022-12-24T22:11:27.031Z"
   },
   {
    "duration": 2,
    "start_time": "2022-12-24T22:12:15.433Z"
   },
   {
    "duration": 4,
    "start_time": "2022-12-24T22:12:15.745Z"
   },
   {
    "duration": 430,
    "start_time": "2022-12-24T22:12:15.980Z"
   },
   {
    "duration": 18,
    "start_time": "2022-12-24T22:12:20.961Z"
   },
   {
    "duration": 79,
    "start_time": "2022-12-24T22:14:24.522Z"
   },
   {
    "duration": 47,
    "start_time": "2022-12-24T22:24:05.414Z"
   },
   {
    "duration": 45,
    "start_time": "2022-12-24T22:33:15.699Z"
   },
   {
    "duration": 3,
    "start_time": "2022-12-24T22:36:58.243Z"
   },
   {
    "duration": 5,
    "start_time": "2022-12-24T22:39:12.941Z"
   },
   {
    "duration": 95,
    "start_time": "2022-12-24T22:39:14.989Z"
   },
   {
    "duration": 90,
    "start_time": "2022-12-24T22:39:17.854Z"
   },
   {
    "duration": 89,
    "start_time": "2022-12-24T22:39:27.230Z"
   },
   {
    "duration": 93,
    "start_time": "2022-12-24T22:39:33.350Z"
   },
   {
    "duration": 5,
    "start_time": "2022-12-24T22:40:00.246Z"
   },
   {
    "duration": 13,
    "start_time": "2022-12-24T22:40:11.551Z"
   },
   {
    "duration": 9,
    "start_time": "2022-12-24T22:40:18.799Z"
   },
   {
    "duration": 8,
    "start_time": "2022-12-24T22:40:27.415Z"
   },
   {
    "duration": 14,
    "start_time": "2022-12-24T22:40:33.060Z"
   },
   {
    "duration": 7,
    "start_time": "2022-12-24T22:40:49.097Z"
   },
   {
    "duration": 8,
    "start_time": "2022-12-24T22:40:55.982Z"
   },
   {
    "duration": 126,
    "start_time": "2022-12-24T22:40:56.686Z"
   },
   {
    "duration": 6,
    "start_time": "2022-12-24T22:41:00.870Z"
   },
   {
    "duration": 182,
    "start_time": "2022-12-24T22:41:01.621Z"
   },
   {
    "duration": 121,
    "start_time": "2022-12-24T22:41:07.341Z"
   },
   {
    "duration": 10,
    "start_time": "2022-12-24T22:41:53.509Z"
   },
   {
    "duration": 3,
    "start_time": "2022-12-24T22:42:05.760Z"
   },
   {
    "duration": 4,
    "start_time": "2022-12-24T22:42:09.983Z"
   },
   {
    "duration": 111,
    "start_time": "2022-12-24T22:42:24.767Z"
   },
   {
    "duration": 123,
    "start_time": "2022-12-24T22:42:30.368Z"
   },
   {
    "duration": 7,
    "start_time": "2022-12-24T22:42:36.825Z"
   },
   {
    "duration": 110,
    "start_time": "2022-12-24T22:44:15.497Z"
   },
   {
    "duration": 99,
    "start_time": "2022-12-24T22:44:39.585Z"
   },
   {
    "duration": 99,
    "start_time": "2022-12-24T22:44:47.298Z"
   },
   {
    "duration": 101,
    "start_time": "2022-12-24T22:44:49.929Z"
   },
   {
    "duration": 99,
    "start_time": "2022-12-24T22:44:57.361Z"
   },
   {
    "duration": 18,
    "start_time": "2022-12-24T22:45:11.138Z"
   },
   {
    "duration": 46,
    "start_time": "2022-12-24T22:45:50.210Z"
   },
   {
    "duration": 100,
    "start_time": "2022-12-24T22:45:51.040Z"
   },
   {
    "duration": 14,
    "start_time": "2022-12-24T22:45:57.481Z"
   },
   {
    "duration": 46,
    "start_time": "2022-12-24T22:45:59.721Z"
   },
   {
    "duration": 40,
    "start_time": "2022-12-24T22:46:22.706Z"
   },
   {
    "duration": 54,
    "start_time": "2022-12-24T22:46:26.273Z"
   },
   {
    "duration": 41,
    "start_time": "2022-12-24T22:46:28.929Z"
   },
   {
    "duration": 47,
    "start_time": "2022-12-24T22:46:37.650Z"
   },
   {
    "duration": 5,
    "start_time": "2022-12-24T22:48:29.829Z"
   },
   {
    "duration": 50,
    "start_time": "2022-12-24T22:48:56.466Z"
   },
   {
    "duration": 8,
    "start_time": "2022-12-24T22:49:18.891Z"
   },
   {
    "duration": 4,
    "start_time": "2022-12-24T22:49:20.035Z"
   },
   {
    "duration": 93,
    "start_time": "2022-12-24T22:49:26.540Z"
   },
   {
    "duration": 3,
    "start_time": "2022-12-24T22:55:06.712Z"
   },
   {
    "duration": 4,
    "start_time": "2022-12-24T22:55:07.046Z"
   },
   {
    "duration": 4,
    "start_time": "2022-12-24T22:55:07.422Z"
   },
   {
    "duration": 249,
    "start_time": "2022-12-24T22:55:08.057Z"
   },
   {
    "duration": 4,
    "start_time": "2022-12-24T22:55:23.009Z"
   },
   {
    "duration": 90,
    "start_time": "2022-12-24T22:55:23.174Z"
   },
   {
    "duration": 3,
    "start_time": "2022-12-24T22:55:40.785Z"
   },
   {
    "duration": 91,
    "start_time": "2022-12-24T22:55:41.087Z"
   },
   {
    "duration": 3,
    "start_time": "2022-12-24T22:55:59.344Z"
   },
   {
    "duration": 103,
    "start_time": "2022-12-24T22:55:59.648Z"
   },
   {
    "duration": 4,
    "start_time": "2022-12-24T22:56:06.041Z"
   },
   {
    "duration": 87,
    "start_time": "2022-12-24T22:56:06.248Z"
   },
   {
    "duration": 3,
    "start_time": "2022-12-24T22:56:17.392Z"
   },
   {
    "duration": 91,
    "start_time": "2022-12-24T22:56:17.608Z"
   },
   {
    "duration": 4,
    "start_time": "2022-12-24T22:56:25.056Z"
   },
   {
    "duration": 93,
    "start_time": "2022-12-24T22:56:25.265Z"
   },
   {
    "duration": 95,
    "start_time": "2022-12-24T22:56:49.017Z"
   },
   {
    "duration": 79,
    "start_time": "2022-12-24T22:56:49.585Z"
   },
   {
    "duration": 71,
    "start_time": "2022-12-24T22:56:49.777Z"
   },
   {
    "duration": 99,
    "start_time": "2022-12-24T22:56:50.017Z"
   },
   {
    "duration": 85,
    "start_time": "2022-12-24T22:56:50.209Z"
   },
   {
    "duration": 41,
    "start_time": "2022-12-24T23:47:00.545Z"
   },
   {
    "duration": 3,
    "start_time": "2022-12-24T23:48:54.541Z"
   },
   {
    "duration": 6,
    "start_time": "2022-12-24T23:48:54.547Z"
   },
   {
    "duration": 12,
    "start_time": "2022-12-24T23:48:54.555Z"
   },
   {
    "duration": 267,
    "start_time": "2022-12-24T23:48:54.569Z"
   },
   {
    "duration": 75,
    "start_time": "2022-12-24T23:48:54.839Z"
   },
   {
    "duration": 74,
    "start_time": "2022-12-24T23:48:54.916Z"
   },
   {
    "duration": 133,
    "start_time": "2022-12-24T23:48:54.992Z"
   },
   {
    "duration": 93,
    "start_time": "2022-12-24T23:48:55.127Z"
   },
   {
    "duration": 42,
    "start_time": "2022-12-24T23:48:55.221Z"
   },
   {
    "duration": 3,
    "start_time": "2022-12-24T23:49:19.404Z"
   },
   {
    "duration": 12,
    "start_time": "2022-12-24T23:49:19.410Z"
   },
   {
    "duration": 7,
    "start_time": "2022-12-24T23:49:19.424Z"
   },
   {
    "duration": 261,
    "start_time": "2022-12-24T23:49:19.433Z"
   },
   {
    "duration": 78,
    "start_time": "2022-12-24T23:49:19.696Z"
   },
   {
    "duration": 76,
    "start_time": "2022-12-24T23:49:19.776Z"
   },
   {
    "duration": 120,
    "start_time": "2022-12-24T23:49:19.854Z"
   },
   {
    "duration": 98,
    "start_time": "2022-12-24T23:49:19.976Z"
   },
   {
    "duration": 77,
    "start_time": "2022-12-24T23:50:24.555Z"
   },
   {
    "duration": 144,
    "start_time": "2022-12-24T23:50:42.937Z"
   },
   {
    "duration": 121,
    "start_time": "2022-12-24T23:50:54.916Z"
   },
   {
    "duration": 79,
    "start_time": "2022-12-24T23:51:45.331Z"
   },
   {
    "duration": 66,
    "start_time": "2022-12-24T23:52:00.668Z"
   },
   {
    "duration": 65,
    "start_time": "2022-12-24T23:52:19.428Z"
   },
   {
    "duration": 46,
    "start_time": "2022-12-24T23:55:12.270Z"
   },
   {
    "duration": 142,
    "start_time": "2022-12-25T00:00:25.738Z"
   },
   {
    "duration": 130,
    "start_time": "2022-12-25T00:00:39.194Z"
   },
   {
    "duration": 361,
    "start_time": "2022-12-25T00:01:26.305Z"
   },
   {
    "duration": 119,
    "start_time": "2022-12-25T00:01:44.641Z"
   },
   {
    "duration": 126,
    "start_time": "2022-12-25T00:03:15.060Z"
   },
   {
    "duration": 119,
    "start_time": "2022-12-25T00:03:21.636Z"
   },
   {
    "duration": 91,
    "start_time": "2022-12-25T00:03:26.252Z"
   },
   {
    "duration": 119,
    "start_time": "2022-12-25T00:08:24.549Z"
   },
   {
    "duration": 81,
    "start_time": "2022-12-25T00:08:45.830Z"
   },
   {
    "duration": 74,
    "start_time": "2022-12-25T00:09:51.903Z"
   },
   {
    "duration": 70,
    "start_time": "2022-12-25T00:10:16.376Z"
   },
   {
    "duration": 72,
    "start_time": "2022-12-25T00:10:21.375Z"
   },
   {
    "duration": 70,
    "start_time": "2022-12-25T00:10:31.670Z"
   },
   {
    "duration": 69,
    "start_time": "2022-12-25T00:10:43.351Z"
   },
   {
    "duration": 68,
    "start_time": "2022-12-25T00:11:53.840Z"
   },
   {
    "duration": 159,
    "start_time": "2022-12-25T00:14:19.353Z"
   },
   {
    "duration": 128,
    "start_time": "2022-12-25T00:14:31.450Z"
   },
   {
    "duration": 136,
    "start_time": "2022-12-25T00:14:42.730Z"
   },
   {
    "duration": 216,
    "start_time": "2022-12-25T00:15:03.243Z"
   },
   {
    "duration": 94,
    "start_time": "2022-12-25T00:15:57.050Z"
   },
   {
    "duration": 89,
    "start_time": "2022-12-25T00:16:20.130Z"
   },
   {
    "duration": 126,
    "start_time": "2022-12-25T00:16:43.075Z"
   },
   {
    "duration": 94,
    "start_time": "2022-12-25T00:16:46.403Z"
   },
   {
    "duration": 96,
    "start_time": "2022-12-25T00:17:04.667Z"
   },
   {
    "duration": 119,
    "start_time": "2022-12-25T00:17:42.388Z"
   },
   {
    "duration": 125,
    "start_time": "2022-12-25T00:17:51.909Z"
   },
   {
    "duration": 119,
    "start_time": "2022-12-25T00:17:53.764Z"
   },
   {
    "duration": 68,
    "start_time": "2022-12-25T00:18:01.901Z"
   },
   {
    "duration": 143,
    "start_time": "2022-12-25T00:18:38.684Z"
   },
   {
    "duration": 82,
    "start_time": "2022-12-25T00:18:54.245Z"
   },
   {
    "duration": 86,
    "start_time": "2022-12-25T00:19:29.381Z"
   },
   {
    "duration": 86,
    "start_time": "2022-12-25T00:20:06.574Z"
   },
   {
    "duration": 86,
    "start_time": "2022-12-25T00:20:30.564Z"
   },
   {
    "duration": 83,
    "start_time": "2022-12-25T00:20:34.596Z"
   },
   {
    "duration": 84,
    "start_time": "2022-12-25T00:20:49.309Z"
   },
   {
    "duration": 127,
    "start_time": "2022-12-25T00:21:06.397Z"
   },
   {
    "duration": 125,
    "start_time": "2022-12-25T00:21:19.294Z"
   },
   {
    "duration": 99,
    "start_time": "2022-12-25T00:21:31.054Z"
   },
   {
    "duration": 153,
    "start_time": "2022-12-25T00:22:01.318Z"
   },
   {
    "duration": 96,
    "start_time": "2022-12-25T00:22:04.758Z"
   },
   {
    "duration": 96,
    "start_time": "2022-12-25T00:23:28.806Z"
   },
   {
    "duration": 129,
    "start_time": "2022-12-25T00:24:31.328Z"
   },
   {
    "duration": 126,
    "start_time": "2022-12-25T00:24:42.176Z"
   },
   {
    "duration": 99,
    "start_time": "2022-12-25T00:24:50.441Z"
   },
   {
    "duration": 76,
    "start_time": "2022-12-25T00:25:09.697Z"
   },
   {
    "duration": 74,
    "start_time": "2022-12-25T00:25:38.466Z"
   },
   {
    "duration": 74,
    "start_time": "2022-12-25T00:25:54.000Z"
   },
   {
    "duration": 73,
    "start_time": "2022-12-25T00:25:58.744Z"
   },
   {
    "duration": 72,
    "start_time": "2022-12-25T00:26:05.792Z"
   },
   {
    "duration": 71,
    "start_time": "2022-12-25T00:26:09.686Z"
   },
   {
    "duration": 74,
    "start_time": "2022-12-25T00:26:18.376Z"
   },
   {
    "duration": 80,
    "start_time": "2022-12-25T00:26:52.921Z"
   },
   {
    "duration": 226,
    "start_time": "2022-12-25T00:29:20.467Z"
   },
   {
    "duration": 112,
    "start_time": "2022-12-25T00:31:38.028Z"
   },
   {
    "duration": 266,
    "start_time": "2022-12-25T00:32:06.093Z"
   },
   {
    "duration": 296,
    "start_time": "2022-12-25T00:32:37.886Z"
   },
   {
    "duration": 120,
    "start_time": "2022-12-25T00:33:52.149Z"
   },
   {
    "duration": 154,
    "start_time": "2022-12-25T00:34:29.862Z"
   },
   {
    "duration": 75,
    "start_time": "2022-12-25T00:34:43.174Z"
   },
   {
    "duration": 70,
    "start_time": "2022-12-25T00:34:58.644Z"
   },
   {
    "duration": 139,
    "start_time": "2022-12-25T00:35:34.229Z"
   },
   {
    "duration": 119,
    "start_time": "2022-12-25T00:35:47.157Z"
   },
   {
    "duration": 119,
    "start_time": "2022-12-25T00:35:55.310Z"
   },
   {
    "duration": 73,
    "start_time": "2022-12-25T00:36:01.254Z"
   },
   {
    "duration": 78,
    "start_time": "2022-12-25T00:36:13.918Z"
   },
   {
    "duration": 71,
    "start_time": "2022-12-25T00:37:22.903Z"
   },
   {
    "duration": 69,
    "start_time": "2022-12-25T00:37:41.446Z"
   },
   {
    "duration": 68,
    "start_time": "2022-12-25T00:37:48.014Z"
   },
   {
    "duration": 68,
    "start_time": "2022-12-25T00:38:51.655Z"
   },
   {
    "duration": 83,
    "start_time": "2022-12-25T00:39:40.777Z"
   },
   {
    "duration": 122,
    "start_time": "2022-12-25T00:40:22.103Z"
   },
   {
    "duration": 70,
    "start_time": "2022-12-25T00:40:29.319Z"
   },
   {
    "duration": 132,
    "start_time": "2022-12-25T00:42:23.314Z"
   },
   {
    "duration": 128,
    "start_time": "2022-12-25T00:42:30.970Z"
   },
   {
    "duration": 69,
    "start_time": "2022-12-25T00:42:40.433Z"
   },
   {
    "duration": 68,
    "start_time": "2022-12-25T00:42:51.768Z"
   },
   {
    "duration": 69,
    "start_time": "2022-12-25T00:43:20.193Z"
   },
   {
    "duration": 71,
    "start_time": "2022-12-25T00:43:25.066Z"
   },
   {
    "duration": 70,
    "start_time": "2022-12-25T00:44:36.249Z"
   },
   {
    "duration": 136,
    "start_time": "2022-12-25T00:45:01.674Z"
   },
   {
    "duration": 70,
    "start_time": "2022-12-25T00:45:21.348Z"
   },
   {
    "duration": 70,
    "start_time": "2022-12-25T00:46:05.011Z"
   },
   {
    "duration": 97,
    "start_time": "2022-12-25T00:47:18.045Z"
   },
   {
    "duration": 67,
    "start_time": "2022-12-25T00:48:30.117Z"
   },
   {
    "duration": 43,
    "start_time": "2022-12-25T00:50:57.118Z"
   },
   {
    "duration": 73,
    "start_time": "2022-12-25T01:01:21.981Z"
   },
   {
    "duration": 69,
    "start_time": "2022-12-25T01:01:29.053Z"
   },
   {
    "duration": 548,
    "start_time": "2022-12-25T01:07:40.074Z"
   },
   {
    "duration": 4738,
    "start_time": "2022-12-25T01:07:40.625Z"
   },
   {
    "duration": 4,
    "start_time": "2022-12-25T01:07:45.365Z"
   },
   {
    "duration": 287,
    "start_time": "2022-12-25T01:07:45.370Z"
   },
   {
    "duration": 74,
    "start_time": "2022-12-25T01:07:45.659Z"
   },
   {
    "duration": 71,
    "start_time": "2022-12-25T01:07:45.734Z"
   },
   {
    "duration": 106,
    "start_time": "2022-12-25T01:07:45.807Z"
   },
   {
    "duration": 94,
    "start_time": "2022-12-25T01:07:45.915Z"
   },
   {
    "duration": 73,
    "start_time": "2022-12-25T01:07:46.010Z"
   },
   {
    "duration": 86,
    "start_time": "2022-12-25T01:07:46.084Z"
   },
   {
    "duration": 74,
    "start_time": "2022-12-25T01:07:46.172Z"
   },
   {
    "duration": 74,
    "start_time": "2022-12-25T01:07:46.248Z"
   },
   {
    "duration": 89,
    "start_time": "2022-12-25T01:07:46.323Z"
   },
   {
    "duration": 490,
    "start_time": "2022-12-25T01:12:03.028Z"
   },
   {
    "duration": 4800,
    "start_time": "2022-12-25T01:12:03.520Z"
   },
   {
    "duration": 3,
    "start_time": "2022-12-25T01:12:08.323Z"
   },
   {
    "duration": 267,
    "start_time": "2022-12-25T01:12:08.327Z"
   },
   {
    "duration": 71,
    "start_time": "2022-12-25T01:12:08.596Z"
   },
   {
    "duration": 69,
    "start_time": "2022-12-25T01:12:08.670Z"
   },
   {
    "duration": 103,
    "start_time": "2022-12-25T01:12:08.742Z"
   },
   {
    "duration": 85,
    "start_time": "2022-12-25T01:12:08.848Z"
   },
   {
    "duration": 66,
    "start_time": "2022-12-25T01:12:08.935Z"
   },
   {
    "duration": 80,
    "start_time": "2022-12-25T01:12:09.003Z"
   },
   {
    "duration": 67,
    "start_time": "2022-12-25T01:12:09.084Z"
   },
   {
    "duration": 70,
    "start_time": "2022-12-25T01:12:09.152Z"
   },
   {
    "duration": 70,
    "start_time": "2022-12-25T01:12:09.223Z"
   },
   {
    "duration": 72,
    "start_time": "2022-12-25T01:14:01.267Z"
   },
   {
    "duration": 485,
    "start_time": "2022-12-25T01:16:29.451Z"
   },
   {
    "duration": 5012,
    "start_time": "2022-12-25T01:16:29.938Z"
   },
   {
    "duration": 4,
    "start_time": "2022-12-25T01:16:34.952Z"
   },
   {
    "duration": 273,
    "start_time": "2022-12-25T01:16:34.957Z"
   },
   {
    "duration": 71,
    "start_time": "2022-12-25T01:16:35.232Z"
   },
   {
    "duration": 70,
    "start_time": "2022-12-25T01:16:35.305Z"
   },
   {
    "duration": 92,
    "start_time": "2022-12-25T01:16:35.377Z"
   },
   {
    "duration": 87,
    "start_time": "2022-12-25T01:16:35.471Z"
   },
   {
    "duration": 69,
    "start_time": "2022-12-25T01:16:35.560Z"
   },
   {
    "duration": 81,
    "start_time": "2022-12-25T01:16:35.630Z"
   },
   {
    "duration": 67,
    "start_time": "2022-12-25T01:16:35.713Z"
   },
   {
    "duration": 70,
    "start_time": "2022-12-25T01:16:35.781Z"
   },
   {
    "duration": 72,
    "start_time": "2022-12-25T01:16:35.853Z"
   },
   {
    "duration": 489,
    "start_time": "2022-12-25T12:21:20.883Z"
   },
   {
    "duration": 7403,
    "start_time": "2022-12-25T12:21:21.374Z"
   },
   {
    "duration": 3,
    "start_time": "2022-12-25T12:21:28.778Z"
   },
   {
    "duration": 88,
    "start_time": "2022-12-25T12:21:28.783Z"
   },
   {
    "duration": 13,
    "start_time": "2022-12-25T12:21:28.872Z"
   },
   {
    "duration": 28,
    "start_time": "2022-12-25T12:21:28.886Z"
   },
   {
    "duration": 41,
    "start_time": "2022-12-25T12:21:28.916Z"
   },
   {
    "duration": 26,
    "start_time": "2022-12-25T12:21:28.959Z"
   },
   {
    "duration": 24,
    "start_time": "2022-12-25T12:21:28.987Z"
   },
   {
    "duration": 47,
    "start_time": "2022-12-25T12:21:29.013Z"
   },
   {
    "duration": 26,
    "start_time": "2022-12-25T12:21:29.062Z"
   },
   {
    "duration": 34,
    "start_time": "2022-12-25T12:21:29.089Z"
   },
   {
    "duration": 35,
    "start_time": "2022-12-25T12:21:29.125Z"
   },
   {
    "duration": 37,
    "start_time": "2022-12-25T12:24:43.983Z"
   },
   {
    "duration": 22,
    "start_time": "2022-12-25T12:24:45.966Z"
   },
   {
    "duration": 18,
    "start_time": "2022-12-25T12:26:14.281Z"
   },
   {
    "duration": 17,
    "start_time": "2022-12-25T12:26:17.308Z"
   },
   {
    "duration": 495,
    "start_time": "2022-12-25T12:45:01.371Z"
   },
   {
    "duration": 7600,
    "start_time": "2022-12-25T12:45:01.868Z"
   },
   {
    "duration": 3,
    "start_time": "2022-12-25T12:45:09.470Z"
   },
   {
    "duration": 61,
    "start_time": "2022-12-25T12:45:09.474Z"
   },
   {
    "duration": 13,
    "start_time": "2022-12-25T12:45:09.536Z"
   },
   {
    "duration": 26,
    "start_time": "2022-12-25T12:45:09.551Z"
   },
   {
    "duration": 28,
    "start_time": "2022-12-25T12:45:09.579Z"
   },
   {
    "duration": 30,
    "start_time": "2022-12-25T12:45:09.609Z"
   },
   {
    "duration": 10,
    "start_time": "2022-12-25T12:45:09.640Z"
   },
   {
    "duration": 156,
    "start_time": "2022-12-25T12:45:09.652Z"
   },
   {
    "duration": 0,
    "start_time": "2022-12-25T12:45:09.809Z"
   },
   {
    "duration": 0,
    "start_time": "2022-12-25T12:45:09.816Z"
   },
   {
    "duration": 0,
    "start_time": "2022-12-25T12:45:09.817Z"
   },
   {
    "duration": 26,
    "start_time": "2022-12-25T12:45:11.110Z"
   },
   {
    "duration": 2,
    "start_time": "2022-12-25T12:45:15.968Z"
   },
   {
    "duration": 18,
    "start_time": "2022-12-25T12:45:15.972Z"
   },
   {
    "duration": 17,
    "start_time": "2022-12-25T12:45:15.992Z"
   },
   {
    "duration": 64,
    "start_time": "2022-12-25T12:45:16.011Z"
   },
   {
    "duration": 13,
    "start_time": "2022-12-25T12:45:16.078Z"
   },
   {
    "duration": 14,
    "start_time": "2022-12-25T12:45:16.092Z"
   },
   {
    "duration": 28,
    "start_time": "2022-12-25T12:45:16.108Z"
   },
   {
    "duration": 19,
    "start_time": "2022-12-25T12:45:16.138Z"
   },
   {
    "duration": 9,
    "start_time": "2022-12-25T12:45:16.159Z"
   },
   {
    "duration": 24,
    "start_time": "2022-12-25T12:45:16.169Z"
   },
   {
    "duration": 10,
    "start_time": "2022-12-25T12:45:16.195Z"
   },
   {
    "duration": 13,
    "start_time": "2022-12-25T12:45:16.207Z"
   },
   {
    "duration": 12,
    "start_time": "2022-12-25T12:45:16.226Z"
   },
   {
    "duration": 15,
    "start_time": "2022-12-25T12:46:22.341Z"
   },
   {
    "duration": 19,
    "start_time": "2022-12-25T12:46:28.902Z"
   },
   {
    "duration": 16,
    "start_time": "2022-12-25T12:52:07.546Z"
   },
   {
    "duration": 29,
    "start_time": "2022-12-25T12:52:35.770Z"
   },
   {
    "duration": 41,
    "start_time": "2022-12-25T12:52:55.473Z"
   },
   {
    "duration": 68,
    "start_time": "2022-12-25T12:53:48.874Z"
   },
   {
    "duration": 61,
    "start_time": "2022-12-25T12:54:13.650Z"
   },
   {
    "duration": 11,
    "start_time": "2022-12-25T12:54:51.068Z"
   },
   {
    "duration": 110,
    "start_time": "2022-12-25T12:55:04.573Z"
   },
   {
    "duration": 93,
    "start_time": "2022-12-25T12:55:12.347Z"
   },
   {
    "duration": 11,
    "start_time": "2022-12-25T12:55:36.026Z"
   },
   {
    "duration": 24,
    "start_time": "2022-12-25T12:57:04.869Z"
   },
   {
    "duration": 31,
    "start_time": "2022-12-25T12:57:19.829Z"
   },
   {
    "duration": 24,
    "start_time": "2022-12-25T12:57:23.757Z"
   },
   {
    "duration": 23,
    "start_time": "2022-12-25T12:58:15.821Z"
   },
   {
    "duration": 103,
    "start_time": "2022-12-25T12:58:42.573Z"
   },
   {
    "duration": 25,
    "start_time": "2022-12-25T12:58:46.029Z"
   },
   {
    "duration": 21,
    "start_time": "2022-12-25T12:59:41.476Z"
   },
   {
    "duration": 19,
    "start_time": "2022-12-25T13:01:07.654Z"
   },
   {
    "duration": 88,
    "start_time": "2022-12-25T13:01:24.943Z"
   },
   {
    "duration": 22,
    "start_time": "2022-12-25T13:01:33.303Z"
   },
   {
    "duration": 16,
    "start_time": "2022-12-25T13:01:56.429Z"
   },
   {
    "duration": 95,
    "start_time": "2022-12-25T13:02:54.510Z"
   },
   {
    "duration": 94,
    "start_time": "2022-12-25T13:02:57.599Z"
   },
   {
    "duration": 17,
    "start_time": "2022-12-25T13:03:01.760Z"
   },
   {
    "duration": 95,
    "start_time": "2022-12-25T13:03:56.041Z"
   },
   {
    "duration": 17,
    "start_time": "2022-12-25T13:04:04.657Z"
   },
   {
    "duration": 106,
    "start_time": "2022-12-25T13:05:07.088Z"
   },
   {
    "duration": 21,
    "start_time": "2022-12-25T13:05:34.673Z"
   },
   {
    "duration": 21,
    "start_time": "2022-12-25T13:05:47.738Z"
   },
   {
    "duration": 21,
    "start_time": "2022-12-25T13:06:11.968Z"
   },
   {
    "duration": 20,
    "start_time": "2022-12-25T13:06:25.904Z"
   },
   {
    "duration": 18,
    "start_time": "2022-12-25T13:06:49.080Z"
   },
   {
    "duration": 70,
    "start_time": "2022-12-25T13:07:01.833Z"
   },
   {
    "duration": 18,
    "start_time": "2022-12-25T13:07:46.642Z"
   },
   {
    "duration": 17,
    "start_time": "2022-12-25T13:07:58.449Z"
   },
   {
    "duration": 525,
    "start_time": "2022-12-25T13:08:08.505Z"
   },
   {
    "duration": 7438,
    "start_time": "2022-12-25T13:08:09.031Z"
   },
   {
    "duration": 5,
    "start_time": "2022-12-25T13:08:16.470Z"
   },
   {
    "duration": 64,
    "start_time": "2022-12-25T13:08:16.477Z"
   },
   {
    "duration": 20,
    "start_time": "2022-12-25T13:08:16.543Z"
   },
   {
    "duration": 18,
    "start_time": "2022-12-25T13:08:16.565Z"
   },
   {
    "duration": 52,
    "start_time": "2022-12-25T13:08:16.585Z"
   },
   {
    "duration": 30,
    "start_time": "2022-12-25T13:08:16.639Z"
   },
   {
    "duration": 10,
    "start_time": "2022-12-25T13:08:16.671Z"
   },
   {
    "duration": 50,
    "start_time": "2022-12-25T13:08:16.683Z"
   },
   {
    "duration": 13,
    "start_time": "2022-12-25T13:08:16.734Z"
   },
   {
    "duration": 31,
    "start_time": "2022-12-25T13:08:16.749Z"
   },
   {
    "duration": 16,
    "start_time": "2022-12-25T13:08:16.782Z"
   },
   {
    "duration": 49,
    "start_time": "2022-12-25T14:29:37.064Z"
   },
   {
    "duration": 467,
    "start_time": "2022-12-25T14:29:42.951Z"
   },
   {
    "duration": 4808,
    "start_time": "2022-12-25T14:29:43.420Z"
   },
   {
    "duration": 3,
    "start_time": "2022-12-25T14:29:48.230Z"
   },
   {
    "duration": 270,
    "start_time": "2022-12-25T14:29:48.235Z"
   },
   {
    "duration": 76,
    "start_time": "2022-12-25T14:29:48.507Z"
   },
   {
    "duration": 72,
    "start_time": "2022-12-25T14:29:48.584Z"
   },
   {
    "duration": 106,
    "start_time": "2022-12-25T14:29:48.658Z"
   },
   {
    "duration": 88,
    "start_time": "2022-12-25T14:29:48.766Z"
   },
   {
    "duration": 69,
    "start_time": "2022-12-25T14:29:48.856Z"
   },
   {
    "duration": 83,
    "start_time": "2022-12-25T14:29:48.927Z"
   },
   {
    "duration": 71,
    "start_time": "2022-12-25T14:29:49.011Z"
   },
   {
    "duration": 74,
    "start_time": "2022-12-25T14:29:49.084Z"
   },
   {
    "duration": 71,
    "start_time": "2022-12-25T14:29:49.160Z"
   },
   {
    "duration": 73,
    "start_time": "2022-12-25T14:30:03.608Z"
   },
   {
    "duration": 82,
    "start_time": "2022-12-25T14:30:07.032Z"
   }
  ],
  "kernelspec": {
   "display_name": "Python 3 (ipykernel)",
   "language": "python",
   "name": "python3"
  },
  "language_info": {
   "codemirror_mode": {
    "name": "ipython",
    "version": 3
   },
   "file_extension": ".py",
   "mimetype": "text/x-python",
   "name": "python",
   "nbconvert_exporter": "python",
   "pygments_lexer": "ipython3",
   "version": "3.10.4"
  },
  "toc": {
   "base_numbering": 1,
   "nav_menu": {},
   "number_sections": true,
   "sideBar": true,
   "skip_h1_title": true,
   "title_cell": "Table of Contents",
   "title_sidebar": "Contents",
   "toc_cell": false,
   "toc_position": {
    "height": "calc(100% - 180px)",
    "left": "10px",
    "top": "150px",
    "width": "237.101px"
   },
   "toc_section_display": true,
   "toc_window_display": true
  }
 },
 "nbformat": 4,
 "nbformat_minor": 2
}

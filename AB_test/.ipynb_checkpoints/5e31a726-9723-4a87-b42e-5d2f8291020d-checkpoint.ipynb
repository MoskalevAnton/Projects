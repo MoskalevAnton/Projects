{
 "cells": [
  {
   "cell_type": "code",
   "execution_count": 1,
   "metadata": {},
   "outputs": [],
   "source": [
    "import time\n",
    "start_time = time.time()"
   ]
  },
  {
   "cell_type": "markdown",
   "metadata": {},
   "source": [
    "\n",
    "# Проект по А/B-тестированию\n",
    "\n",
    " Постановка задачи — провести оценку результатов A/B-теста. В  распоряжении есть датасет с действиями пользователей, техническое задание и несколько вспомогательных датасетов.\n",
    " \n",
    "Оценить корректность проведения теста.\n",
    "\n",
    "Проанализировать результаты теста.\n",
    "\n",
    "Чтобы оценить корректность проведения теста, проверить:\n",
    "пересечение тестовой аудитории с конкурирующим тестом;\n",
    "совпадение теста и маркетинговых событий, другие проблемы временных границ теста."
   ]
  },
  {
   "cell_type": "markdown",
   "metadata": {},
   "source": [
    "# Техническое задание\n",
    "\n",
    "    Название теста: recommender_system_test;\n",
    "    Группы: А (контрольная), B (новая платёжная воронка);\n",
    "    Дата запуска: 2020-12-07;\n",
    "    Дата остановки набора новых пользователей: 2020-12-21;\n",
    "    Дата остановки: 2021-01-04;\n",
    "    Аудитория: 15% новых пользователей из региона EU;\n",
    "    Назначение теста: тестирование изменений, связанных с внедрением улучшенной рекомендательной системы;\n",
    "        \n",
    "    Ожидаемое количество участников теста: 6000.\n",
    "    Ожидаемый эффект: за 14 дней с момента регистрации в системе пользователи покажут улучшение каждой метрики не менее, чем на 10%:\n",
    "    конверсии в просмотр карточек товаров — событие product_page\n",
    "    просмотры корзины — product_cart\n",
    "    покупки — purchase."
   ]
  },
  {
   "cell_type": "markdown",
   "metadata": {},
   "source": [
    "# Краткий вывод по проделанной работы\n"
   ]
  },
  {
   "cell_type": "markdown",
   "metadata": {},
   "source": [
    "<a id=\"1\"></a> \n",
    "## Шаг.\n"
   ]
  },
  {
   "cell_type": "code",
   "execution_count": 2,
   "metadata": {},
   "outputs": [],
   "source": [
    "#импорт необходимых библиотек\n",
    "import pandas as pd\n",
    "import numpy as np\n",
    "import datetime as dt\n",
    "#from matplotlib import pyplot as plt\n",
    "#import scipy.stats as stats\n",
    "import plotly.express as px\n"
   ]
  },
  {
   "cell_type": "code",
   "execution_count": 3,
   "metadata": {},
   "outputs": [],
   "source": [
    "ab_project_marketing_events = pd.read_csv('https://code.s3.yandex.net/datasets/ab_project_marketing_events.csv')\n",
    "final_ab_new_users = pd.read_csv('https://code.s3.yandex.net/datasets/final_ab_new_users.csv')\n",
    "final_ab_events = pd.read_csv('https://code.s3.yandex.net/datasets/final_ab_events.csv')\n",
    "final_ab_participants = pd.read_csv('https://code.s3.yandex.net/datasets/final_ab_participants.csv')\n"
   ]
  },
  {
   "cell_type": "code",
   "execution_count": 4,
   "metadata": {},
   "outputs": [
    {
     "name": "stdout",
     "output_type": "stream",
     "text": [
      "<class 'pandas.core.frame.DataFrame'>\n",
      "RangeIndex: 14 entries, 0 to 13\n",
      "Data columns (total 4 columns):\n",
      " #   Column     Non-Null Count  Dtype \n",
      "---  ------     --------------  ----- \n",
      " 0   name       14 non-null     object\n",
      " 1   regions    14 non-null     object\n",
      " 2   start_dt   14 non-null     object\n",
      " 3   finish_dt  14 non-null     object\n",
      "dtypes: object(4)\n",
      "memory usage: 576.0+ bytes\n"
     ]
    }
   ],
   "source": [
    "ab_project_marketing_events.info()"
   ]
  },
  {
   "cell_type": "code",
   "execution_count": 5,
   "metadata": {},
   "outputs": [
    {
     "data": {
      "text/html": [
       "<div>\n",
       "<style scoped>\n",
       "    .dataframe tbody tr th:only-of-type {\n",
       "        vertical-align: middle;\n",
       "    }\n",
       "\n",
       "    .dataframe tbody tr th {\n",
       "        vertical-align: top;\n",
       "    }\n",
       "\n",
       "    .dataframe thead th {\n",
       "        text-align: right;\n",
       "    }\n",
       "</style>\n",
       "<table border=\"1\" class=\"dataframe\">\n",
       "  <thead>\n",
       "    <tr style=\"text-align: right;\">\n",
       "      <th></th>\n",
       "      <th>name</th>\n",
       "      <th>regions</th>\n",
       "      <th>start_dt</th>\n",
       "      <th>finish_dt</th>\n",
       "    </tr>\n",
       "  </thead>\n",
       "  <tbody>\n",
       "    <tr>\n",
       "      <th>0</th>\n",
       "      <td>Christmas&amp;New Year Promo</td>\n",
       "      <td>EU, N.America</td>\n",
       "      <td>2020-12-25</td>\n",
       "      <td>2021-01-03</td>\n",
       "    </tr>\n",
       "    <tr>\n",
       "      <th>1</th>\n",
       "      <td>St. Valentine's Day Giveaway</td>\n",
       "      <td>EU, CIS, APAC, N.America</td>\n",
       "      <td>2020-02-14</td>\n",
       "      <td>2020-02-16</td>\n",
       "    </tr>\n",
       "    <tr>\n",
       "      <th>2</th>\n",
       "      <td>St. Patric's Day Promo</td>\n",
       "      <td>EU, N.America</td>\n",
       "      <td>2020-03-17</td>\n",
       "      <td>2020-03-19</td>\n",
       "    </tr>\n",
       "    <tr>\n",
       "      <th>3</th>\n",
       "      <td>Easter Promo</td>\n",
       "      <td>EU, CIS, APAC, N.America</td>\n",
       "      <td>2020-04-12</td>\n",
       "      <td>2020-04-19</td>\n",
       "    </tr>\n",
       "    <tr>\n",
       "      <th>4</th>\n",
       "      <td>4th of July Promo</td>\n",
       "      <td>N.America</td>\n",
       "      <td>2020-07-04</td>\n",
       "      <td>2020-07-11</td>\n",
       "    </tr>\n",
       "  </tbody>\n",
       "</table>\n",
       "</div>"
      ],
      "text/plain": [
       "                           name                   regions    start_dt  \\\n",
       "0      Christmas&New Year Promo             EU, N.America  2020-12-25   \n",
       "1  St. Valentine's Day Giveaway  EU, CIS, APAC, N.America  2020-02-14   \n",
       "2        St. Patric's Day Promo             EU, N.America  2020-03-17   \n",
       "3                  Easter Promo  EU, CIS, APAC, N.America  2020-04-12   \n",
       "4             4th of July Promo                 N.America  2020-07-04   \n",
       "\n",
       "    finish_dt  \n",
       "0  2021-01-03  \n",
       "1  2020-02-16  \n",
       "2  2020-03-19  \n",
       "3  2020-04-19  \n",
       "4  2020-07-11  "
      ]
     },
     "execution_count": 5,
     "metadata": {},
     "output_type": "execute_result"
    }
   ],
   "source": [
    "ab_project_marketing_events.head()"
   ]
  },
  {
   "cell_type": "code",
   "execution_count": 6,
   "metadata": {},
   "outputs": [
    {
     "data": {
      "text/plain": [
       "0"
      ]
     },
     "execution_count": 6,
     "metadata": {},
     "output_type": "execute_result"
    }
   ],
   "source": [
    "# подсчёт количества дубликатов\n",
    "ab_project_marketing_events.duplicated().sum()"
   ]
  },
  {
   "cell_type": "code",
   "execution_count": 7,
   "metadata": {},
   "outputs": [],
   "source": [
    "#изменение типа столбцов на временной\n",
    "ab_project_marketing_events['start_dt'] = pd.to_datetime(ab_project_marketing_events['start_dt'], format='%Y-%m-%d')\n",
    "ab_project_marketing_events['finish_dt'] = pd.to_datetime(ab_project_marketing_events['finish_dt'], format='%Y-%m-%d')"
   ]
  },
  {
   "cell_type": "code",
   "execution_count": 8,
   "metadata": {},
   "outputs": [
    {
     "data": {
      "text/plain": [
       "array(['Christmas&New Year Promo', \"St. Valentine's Day Giveaway\",\n",
       "       \"St. Patric's Day Promo\", 'Easter Promo', '4th of July Promo',\n",
       "       'Black Friday Ads Campaign', 'Chinese New Year Promo',\n",
       "       'Labor day (May 1st) Ads Campaign',\n",
       "       \"International Women's Day Promo\",\n",
       "       'Victory Day CIS (May 9th) Event', 'CIS New Year Gift Lottery',\n",
       "       'Dragon Boat Festival Giveaway', \"Single's Day Gift Promo\",\n",
       "       'Chinese Moon Festival'], dtype=object)"
      ]
     },
     "execution_count": 8,
     "metadata": {},
     "output_type": "execute_result"
    }
   ],
   "source": [
    "#провесмотр уникалных названий\n",
    "ab_project_marketing_events['name'].unique()"
   ]
  },
  {
   "cell_type": "code",
   "execution_count": 9,
   "metadata": {},
   "outputs": [
    {
     "data": {
      "text/plain": [
       "array(['EU, N.America', 'EU, CIS, APAC, N.America', 'N.America', 'APAC',\n",
       "       'EU, CIS, APAC', 'CIS'], dtype=object)"
      ]
     },
     "execution_count": 9,
     "metadata": {},
     "output_type": "execute_result"
    }
   ],
   "source": [
    "ab_project_marketing_events['regions'].unique()"
   ]
  },
  {
   "cell_type": "code",
   "execution_count": 10,
   "metadata": {},
   "outputs": [
    {
     "data": {
      "text/plain": [
       "Timestamp('2020-01-25 00:00:00')"
      ]
     },
     "execution_count": 10,
     "metadata": {},
     "output_type": "execute_result"
    }
   ],
   "source": [
    "#провесмотр первой даты\n",
    "ab_project_marketing_events['start_dt'].min()"
   ]
  },
  {
   "cell_type": "code",
   "execution_count": 11,
   "metadata": {},
   "outputs": [
    {
     "data": {
      "text/plain": [
       "Timestamp('2020-12-30 00:00:00')"
      ]
     },
     "execution_count": 11,
     "metadata": {},
     "output_type": "execute_result"
    }
   ],
   "source": [
    "#провесмотр final_ab_events.info() даты\n",
    "ab_project_marketing_events['start_dt'].max()"
   ]
  },
  {
   "cell_type": "code",
   "execution_count": 12,
   "metadata": {},
   "outputs": [
    {
     "data": {
      "text/plain": [
       "Timestamp('2020-02-07 00:00:00')"
      ]
     },
     "execution_count": 12,
     "metadata": {},
     "output_type": "execute_result"
    }
   ],
   "source": [
    "#провесмотр первой даты\n",
    "ab_project_marketing_events['finish_dt'].min()"
   ]
  },
  {
   "cell_type": "code",
   "execution_count": 13,
   "metadata": {},
   "outputs": [
    {
     "data": {
      "text/plain": [
       "Timestamp('2021-01-07 00:00:00')"
      ]
     },
     "execution_count": 13,
     "metadata": {},
     "output_type": "execute_result"
    }
   ],
   "source": [
    "#провесмотр final_ab_events.info() даты\n",
    "ab_project_marketing_events['finish_dt'].max()"
   ]
  },
  {
   "cell_type": "code",
   "execution_count": 14,
   "metadata": {},
   "outputs": [
    {
     "name": "stdout",
     "output_type": "stream",
     "text": [
      "<class 'pandas.core.frame.DataFrame'>\n",
      "RangeIndex: 61733 entries, 0 to 61732\n",
      "Data columns (total 4 columns):\n",
      " #   Column      Non-Null Count  Dtype \n",
      "---  ------      --------------  ----- \n",
      " 0   user_id     61733 non-null  object\n",
      " 1   first_date  61733 non-null  object\n",
      " 2   region      61733 non-null  object\n",
      " 3   device      61733 non-null  object\n",
      "dtypes: object(4)\n",
      "memory usage: 1.9+ MB\n"
     ]
    }
   ],
   "source": [
    "final_ab_new_users.info()"
   ]
  },
  {
   "cell_type": "code",
   "execution_count": 15,
   "metadata": {},
   "outputs": [
    {
     "data": {
      "text/html": [
       "<div>\n",
       "<style scoped>\n",
       "    .dataframe tbody tr th:only-of-type {\n",
       "        vertical-align: middle;\n",
       "    }\n",
       "\n",
       "    .dataframe tbody tr th {\n",
       "        vertical-align: top;\n",
       "    }\n",
       "\n",
       "    .dataframe thead th {\n",
       "        text-align: right;\n",
       "    }\n",
       "</style>\n",
       "<table border=\"1\" class=\"dataframe\">\n",
       "  <thead>\n",
       "    <tr style=\"text-align: right;\">\n",
       "      <th></th>\n",
       "      <th>user_id</th>\n",
       "      <th>first_date</th>\n",
       "      <th>region</th>\n",
       "      <th>device</th>\n",
       "    </tr>\n",
       "  </thead>\n",
       "  <tbody>\n",
       "    <tr>\n",
       "      <th>0</th>\n",
       "      <td>D72A72121175D8BE</td>\n",
       "      <td>2020-12-07</td>\n",
       "      <td>EU</td>\n",
       "      <td>PC</td>\n",
       "    </tr>\n",
       "    <tr>\n",
       "      <th>1</th>\n",
       "      <td>F1C668619DFE6E65</td>\n",
       "      <td>2020-12-07</td>\n",
       "      <td>N.America</td>\n",
       "      <td>Android</td>\n",
       "    </tr>\n",
       "    <tr>\n",
       "      <th>2</th>\n",
       "      <td>2E1BF1D4C37EA01F</td>\n",
       "      <td>2020-12-07</td>\n",
       "      <td>EU</td>\n",
       "      <td>PC</td>\n",
       "    </tr>\n",
       "    <tr>\n",
       "      <th>3</th>\n",
       "      <td>50734A22C0C63768</td>\n",
       "      <td>2020-12-07</td>\n",
       "      <td>EU</td>\n",
       "      <td>iPhone</td>\n",
       "    </tr>\n",
       "    <tr>\n",
       "      <th>4</th>\n",
       "      <td>E1BDDCE0DAFA2679</td>\n",
       "      <td>2020-12-07</td>\n",
       "      <td>N.America</td>\n",
       "      <td>iPhone</td>\n",
       "    </tr>\n",
       "  </tbody>\n",
       "</table>\n",
       "</div>"
      ],
      "text/plain": [
       "            user_id  first_date     region   device\n",
       "0  D72A72121175D8BE  2020-12-07         EU       PC\n",
       "1  F1C668619DFE6E65  2020-12-07  N.America  Android\n",
       "2  2E1BF1D4C37EA01F  2020-12-07         EU       PC\n",
       "3  50734A22C0C63768  2020-12-07         EU   iPhone\n",
       "4  E1BDDCE0DAFA2679  2020-12-07  N.America   iPhone"
      ]
     },
     "execution_count": 15,
     "metadata": {},
     "output_type": "execute_result"
    }
   ],
   "source": [
    "final_ab_new_users.head()"
   ]
  },
  {
   "cell_type": "code",
   "execution_count": 16,
   "metadata": {},
   "outputs": [
    {
     "data": {
      "text/plain": [
       "0"
      ]
     },
     "execution_count": 16,
     "metadata": {},
     "output_type": "execute_result"
    }
   ],
   "source": [
    "# подсчёт количества дубликатов\n",
    "final_ab_new_users.duplicated().sum()"
   ]
  },
  {
   "cell_type": "code",
   "execution_count": 17,
   "metadata": {},
   "outputs": [],
   "source": [
    "#изменение типа столбцов на временной\n",
    "final_ab_new_users['first_date'] = pd.to_datetime(final_ab_new_users['first_date'], format='%Y-%m-%d')"
   ]
  },
  {
   "cell_type": "code",
   "execution_count": 18,
   "metadata": {},
   "outputs": [
    {
     "data": {
      "text/plain": [
       "array(['EU', 'N.America', 'APAC', 'CIS'], dtype=object)"
      ]
     },
     "execution_count": 18,
     "metadata": {},
     "output_type": "execute_result"
    }
   ],
   "source": [
    "final_ab_new_users['region'].unique()"
   ]
  },
  {
   "cell_type": "code",
   "execution_count": 19,
   "metadata": {},
   "outputs": [
    {
     "data": {
      "text/plain": [
       "array(['PC', 'Android', 'iPhone', 'Mac'], dtype=object)"
      ]
     },
     "execution_count": 19,
     "metadata": {},
     "output_type": "execute_result"
    }
   ],
   "source": [
    "final_ab_new_users['device'].unique()"
   ]
  },
  {
   "cell_type": "code",
   "execution_count": 20,
   "metadata": {},
   "outputs": [
    {
     "data": {
      "text/plain": [
       "Timestamp('2020-12-07 00:00:00')"
      ]
     },
     "execution_count": 20,
     "metadata": {},
     "output_type": "execute_result"
    }
   ],
   "source": [
    "#провесмотр первой даты\n",
    "final_ab_new_users['first_date'].min()"
   ]
  },
  {
   "cell_type": "code",
   "execution_count": 21,
   "metadata": {},
   "outputs": [
    {
     "data": {
      "text/plain": [
       "Timestamp('2020-12-23 00:00:00')"
      ]
     },
     "execution_count": 21,
     "metadata": {},
     "output_type": "execute_result"
    }
   ],
   "source": [
    "#провесмотр последней даты\n",
    "final_ab_new_users['first_date'].max()"
   ]
  },
  {
   "cell_type": "code",
   "execution_count": 22,
   "metadata": {},
   "outputs": [
    {
     "name": "stdout",
     "output_type": "stream",
     "text": [
      "<class 'pandas.core.frame.DataFrame'>\n",
      "RangeIndex: 440317 entries, 0 to 440316\n",
      "Data columns (total 4 columns):\n",
      " #   Column      Non-Null Count   Dtype  \n",
      "---  ------      --------------   -----  \n",
      " 0   user_id     440317 non-null  object \n",
      " 1   event_dt    440317 non-null  object \n",
      " 2   event_name  440317 non-null  object \n",
      " 3   details     62740 non-null   float64\n",
      "dtypes: float64(1), object(3)\n",
      "memory usage: 13.4+ MB\n"
     ]
    }
   ],
   "source": [
    "final_ab_events.info()"
   ]
  },
  {
   "cell_type": "code",
   "execution_count": 23,
   "metadata": {},
   "outputs": [
    {
     "data": {
      "text/html": [
       "<div>\n",
       "<style scoped>\n",
       "    .dataframe tbody tr th:only-of-type {\n",
       "        vertical-align: middle;\n",
       "    }\n",
       "\n",
       "    .dataframe tbody tr th {\n",
       "        vertical-align: top;\n",
       "    }\n",
       "\n",
       "    .dataframe thead th {\n",
       "        text-align: right;\n",
       "    }\n",
       "</style>\n",
       "<table border=\"1\" class=\"dataframe\">\n",
       "  <thead>\n",
       "    <tr style=\"text-align: right;\">\n",
       "      <th></th>\n",
       "      <th>user_id</th>\n",
       "      <th>event_dt</th>\n",
       "      <th>event_name</th>\n",
       "      <th>details</th>\n",
       "    </tr>\n",
       "  </thead>\n",
       "  <tbody>\n",
       "    <tr>\n",
       "      <th>0</th>\n",
       "      <td>E1BDDCE0DAFA2679</td>\n",
       "      <td>2020-12-07 20:22:03</td>\n",
       "      <td>purchase</td>\n",
       "      <td>99.99</td>\n",
       "    </tr>\n",
       "    <tr>\n",
       "      <th>1</th>\n",
       "      <td>7B6452F081F49504</td>\n",
       "      <td>2020-12-07 09:22:53</td>\n",
       "      <td>purchase</td>\n",
       "      <td>9.99</td>\n",
       "    </tr>\n",
       "    <tr>\n",
       "      <th>2</th>\n",
       "      <td>9CD9F34546DF254C</td>\n",
       "      <td>2020-12-07 12:59:29</td>\n",
       "      <td>purchase</td>\n",
       "      <td>4.99</td>\n",
       "    </tr>\n",
       "    <tr>\n",
       "      <th>3</th>\n",
       "      <td>96F27A054B191457</td>\n",
       "      <td>2020-12-07 04:02:40</td>\n",
       "      <td>purchase</td>\n",
       "      <td>4.99</td>\n",
       "    </tr>\n",
       "    <tr>\n",
       "      <th>4</th>\n",
       "      <td>1FD7660FDF94CA1F</td>\n",
       "      <td>2020-12-07 10:15:09</td>\n",
       "      <td>purchase</td>\n",
       "      <td>4.99</td>\n",
       "    </tr>\n",
       "  </tbody>\n",
       "</table>\n",
       "</div>"
      ],
      "text/plain": [
       "            user_id             event_dt event_name  details\n",
       "0  E1BDDCE0DAFA2679  2020-12-07 20:22:03   purchase    99.99\n",
       "1  7B6452F081F49504  2020-12-07 09:22:53   purchase     9.99\n",
       "2  9CD9F34546DF254C  2020-12-07 12:59:29   purchase     4.99\n",
       "3  96F27A054B191457  2020-12-07 04:02:40   purchase     4.99\n",
       "4  1FD7660FDF94CA1F  2020-12-07 10:15:09   purchase     4.99"
      ]
     },
     "execution_count": 23,
     "metadata": {},
     "output_type": "execute_result"
    }
   ],
   "source": [
    "final_ab_events.head()"
   ]
  },
  {
   "cell_type": "code",
   "execution_count": 24,
   "metadata": {},
   "outputs": [
    {
     "data": {
      "text/plain": [
       "0"
      ]
     },
     "execution_count": 24,
     "metadata": {},
     "output_type": "execute_result"
    }
   ],
   "source": [
    "# подсчёт количества дубликатов\n",
    "final_ab_events.duplicated().sum()"
   ]
  },
  {
   "cell_type": "code",
   "execution_count": 25,
   "metadata": {},
   "outputs": [
    {
     "data": {
      "text/plain": [
       "user_id            0\n",
       "event_dt           0\n",
       "event_name         0\n",
       "details       377577\n",
       "dtype: int64"
      ]
     },
     "execution_count": 25,
     "metadata": {},
     "output_type": "execute_result"
    }
   ],
   "source": [
    "# подсчёт количества пропущенных значений\n",
    "final_ab_events.isna().sum()\n"
   ]
  },
  {
   "cell_type": "code",
   "execution_count": 26,
   "metadata": {},
   "outputs": [
    {
     "data": {
      "text/plain": [
       "array(['product_cart', 'product_page', 'login'], dtype=object)"
      ]
     },
     "execution_count": 26,
     "metadata": {},
     "output_type": "execute_result"
    }
   ],
   "source": [
    "#просмотр уникальных названий 'event_name' в строках с пропусками\n",
    "final_ab_events[final_ab_events.isna()['details']]['event_name'].unique()"
   ]
  },
  {
   "cell_type": "code",
   "execution_count": 27,
   "metadata": {},
   "outputs": [],
   "source": [
    "#изменение типа столбцов на временной\n",
    "final_ab_events['event_dt'] = pd.to_datetime(final_ab_events['event_dt'], format='%Y-%m-%d %H:%M:%S')\n"
   ]
  },
  {
   "cell_type": "code",
   "execution_count": 28,
   "metadata": {},
   "outputs": [
    {
     "data": {
      "text/plain": [
       "Timestamp('2020-12-07 00:00:33')"
      ]
     },
     "execution_count": 28,
     "metadata": {},
     "output_type": "execute_result"
    }
   ],
   "source": [
    "#провесмотр первой даты\n",
    "final_ab_events['event_dt'].min()"
   ]
  },
  {
   "cell_type": "code",
   "execution_count": 29,
   "metadata": {},
   "outputs": [
    {
     "data": {
      "text/plain": [
       "Timestamp('2020-12-30 23:36:33')"
      ]
     },
     "execution_count": 29,
     "metadata": {},
     "output_type": "execute_result"
    }
   ],
   "source": [
    "#провесмотр последней даты\n",
    "final_ab_events['event_dt'].max()"
   ]
  },
  {
   "cell_type": "code",
   "execution_count": 30,
   "metadata": {},
   "outputs": [
    {
     "data": {
      "text/plain": [
       "array(['purchase', 'product_cart', 'product_page', 'login'], dtype=object)"
      ]
     },
     "execution_count": 30,
     "metadata": {},
     "output_type": "execute_result"
    }
   ],
   "source": [
    "final_ab_events['event_name'].unique()"
   ]
  },
  {
   "cell_type": "code",
   "execution_count": 31,
   "metadata": {},
   "outputs": [
    {
     "data": {
      "text/plain": [
       "count    62740.000000\n",
       "mean        23.877631\n",
       "std         72.180465\n",
       "min          4.990000\n",
       "25%          4.990000\n",
       "50%          4.990000\n",
       "75%          9.990000\n",
       "max        499.990000\n",
       "Name: details, dtype: float64"
      ]
     },
     "execution_count": 31,
     "metadata": {},
     "output_type": "execute_result"
    }
   ],
   "source": [
    "final_ab_events['details'].describe()"
   ]
  },
  {
   "cell_type": "code",
   "execution_count": 32,
   "metadata": {},
   "outputs": [
    {
     "name": "stdout",
     "output_type": "stream",
     "text": [
      "<class 'pandas.core.frame.DataFrame'>\n",
      "RangeIndex: 18268 entries, 0 to 18267\n",
      "Data columns (total 3 columns):\n",
      " #   Column   Non-Null Count  Dtype \n",
      "---  ------   --------------  ----- \n",
      " 0   user_id  18268 non-null  object\n",
      " 1   group    18268 non-null  object\n",
      " 2   ab_test  18268 non-null  object\n",
      "dtypes: object(3)\n",
      "memory usage: 428.3+ KB\n"
     ]
    }
   ],
   "source": [
    "final_ab_participants.info()"
   ]
  },
  {
   "cell_type": "code",
   "execution_count": 33,
   "metadata": {},
   "outputs": [
    {
     "data": {
      "text/html": [
       "<div>\n",
       "<style scoped>\n",
       "    .dataframe tbody tr th:only-of-type {\n",
       "        vertical-align: middle;\n",
       "    }\n",
       "\n",
       "    .dataframe tbody tr th {\n",
       "        vertical-align: top;\n",
       "    }\n",
       "\n",
       "    .dataframe thead th {\n",
       "        text-align: right;\n",
       "    }\n",
       "</style>\n",
       "<table border=\"1\" class=\"dataframe\">\n",
       "  <thead>\n",
       "    <tr style=\"text-align: right;\">\n",
       "      <th></th>\n",
       "      <th>user_id</th>\n",
       "      <th>group</th>\n",
       "      <th>ab_test</th>\n",
       "    </tr>\n",
       "  </thead>\n",
       "  <tbody>\n",
       "    <tr>\n",
       "      <th>0</th>\n",
       "      <td>D1ABA3E2887B6A73</td>\n",
       "      <td>A</td>\n",
       "      <td>recommender_system_test</td>\n",
       "    </tr>\n",
       "    <tr>\n",
       "      <th>1</th>\n",
       "      <td>A7A3664BD6242119</td>\n",
       "      <td>A</td>\n",
       "      <td>recommender_system_test</td>\n",
       "    </tr>\n",
       "    <tr>\n",
       "      <th>2</th>\n",
       "      <td>DABC14FDDFADD29E</td>\n",
       "      <td>A</td>\n",
       "      <td>recommender_system_test</td>\n",
       "    </tr>\n",
       "    <tr>\n",
       "      <th>3</th>\n",
       "      <td>04988C5DF189632E</td>\n",
       "      <td>A</td>\n",
       "      <td>recommender_system_test</td>\n",
       "    </tr>\n",
       "    <tr>\n",
       "      <th>4</th>\n",
       "      <td>482F14783456D21B</td>\n",
       "      <td>B</td>\n",
       "      <td>recommender_system_test</td>\n",
       "    </tr>\n",
       "  </tbody>\n",
       "</table>\n",
       "</div>"
      ],
      "text/plain": [
       "            user_id group                  ab_test\n",
       "0  D1ABA3E2887B6A73     A  recommender_system_test\n",
       "1  A7A3664BD6242119     A  recommender_system_test\n",
       "2  DABC14FDDFADD29E     A  recommender_system_test\n",
       "3  04988C5DF189632E     A  recommender_system_test\n",
       "4  482F14783456D21B     B  recommender_system_test"
      ]
     },
     "execution_count": 33,
     "metadata": {},
     "output_type": "execute_result"
    }
   ],
   "source": [
    "final_ab_participants.head()"
   ]
  },
  {
   "cell_type": "code",
   "execution_count": 34,
   "metadata": {},
   "outputs": [
    {
     "data": {
      "text/plain": [
       "0"
      ]
     },
     "execution_count": 34,
     "metadata": {},
     "output_type": "execute_result"
    }
   ],
   "source": [
    "# подсчёт количества дубликатов\n",
    "final_ab_participants.duplicated().sum()"
   ]
  },
  {
   "cell_type": "code",
   "execution_count": 35,
   "metadata": {},
   "outputs": [
    {
     "data": {
      "text/plain": [
       "array(['A', 'B'], dtype=object)"
      ]
     },
     "execution_count": 35,
     "metadata": {},
     "output_type": "execute_result"
    }
   ],
   "source": [
    "final_ab_participants['group'].unique()"
   ]
  },
  {
   "cell_type": "code",
   "execution_count": 36,
   "metadata": {},
   "outputs": [
    {
     "data": {
      "text/plain": [
       "array(['recommender_system_test', 'interface_eu_test'], dtype=object)"
      ]
     },
     "execution_count": 36,
     "metadata": {},
     "output_type": "execute_result"
    }
   ],
   "source": [
    "final_ab_participants['ab_test'].unique()"
   ]
  },
  {
   "cell_type": "markdown",
   "metadata": {},
   "source": [
    "<a id=\"11\"></a> \n",
    "### Вывод по шагу\n",
    "\n",
    "\n",
    "В ходе выполнения первого шага были проделаны следующие действия:\n",
    "\n",
    "    * чтение файлов ab_project_marketing_events, final_ab_new_users, final_ab_events,final_ab_participants и запись их в соответствующие переменные\n",
    "    * просмотр данных\n",
    "    * проверили на дубликаты  \n",
    "    * провеили на пропуски\n",
    "    * посмотрели на важность пропуков\n",
    "    * перевод в формат datetime64[ns] столбца со временем \n",
    "    * добавили колонки с датами\n",
    "    \n",
    "В распоряжении имеются данные :\n",
    "\n",
    "    * ab_project_marketing_events - календарь маркетинговых событий на 2020 год\n",
    "    * final_ab_new_users - все пользователи, зарегистрировавшиеся в интернет-магазине в период с 7 по 21 декабря 2020 года\n",
    "    * final_ab_events -  все события новых пользователей в период с 7 декабря 2020 по 4 января 2021 года\n",
    "    * final_ab_participants - таблица участников тестов"
   ]
  },
  {
   "cell_type": "markdown",
   "metadata": {},
   "source": [
    "<a id=\"2\"></a> \n",
    "## Шаг.  Анализ A/B теста"
   ]
  },
  {
   "cell_type": "markdown",
   "metadata": {},
   "source": [
    "<a id=\"21\"></a> \n",
    "### Просмотр данных"
   ]
  },
  {
   "cell_type": "code",
   "execution_count": 37,
   "metadata": {},
   "outputs": [
    {
     "data": {
      "text/html": [
       "<div>\n",
       "<style scoped>\n",
       "    .dataframe tbody tr th:only-of-type {\n",
       "        vertical-align: middle;\n",
       "    }\n",
       "\n",
       "    .dataframe tbody tr th {\n",
       "        vertical-align: top;\n",
       "    }\n",
       "\n",
       "    .dataframe thead th {\n",
       "        text-align: right;\n",
       "    }\n",
       "</style>\n",
       "<table border=\"1\" class=\"dataframe\">\n",
       "  <thead>\n",
       "    <tr style=\"text-align: right;\">\n",
       "      <th></th>\n",
       "      <th>user_id</th>\n",
       "      <th>group</th>\n",
       "      <th>ab_test</th>\n",
       "    </tr>\n",
       "  </thead>\n",
       "  <tbody>\n",
       "    <tr>\n",
       "      <th>0</th>\n",
       "      <td>D1ABA3E2887B6A73</td>\n",
       "      <td>A</td>\n",
       "      <td>recommender_system_test</td>\n",
       "    </tr>\n",
       "    <tr>\n",
       "      <th>1</th>\n",
       "      <td>A7A3664BD6242119</td>\n",
       "      <td>A</td>\n",
       "      <td>recommender_system_test</td>\n",
       "    </tr>\n",
       "    <tr>\n",
       "      <th>2</th>\n",
       "      <td>DABC14FDDFADD29E</td>\n",
       "      <td>A</td>\n",
       "      <td>recommender_system_test</td>\n",
       "    </tr>\n",
       "    <tr>\n",
       "      <th>3</th>\n",
       "      <td>04988C5DF189632E</td>\n",
       "      <td>A</td>\n",
       "      <td>recommender_system_test</td>\n",
       "    </tr>\n",
       "    <tr>\n",
       "      <th>4</th>\n",
       "      <td>482F14783456D21B</td>\n",
       "      <td>B</td>\n",
       "      <td>recommender_system_test</td>\n",
       "    </tr>\n",
       "    <tr>\n",
       "      <th>...</th>\n",
       "      <td>...</td>\n",
       "      <td>...</td>\n",
       "      <td>...</td>\n",
       "    </tr>\n",
       "    <tr>\n",
       "      <th>6696</th>\n",
       "      <td>053FB26D6D49EDDC</td>\n",
       "      <td>A</td>\n",
       "      <td>recommender_system_test</td>\n",
       "    </tr>\n",
       "    <tr>\n",
       "      <th>6697</th>\n",
       "      <td>9D263B8EF15CF188</td>\n",
       "      <td>B</td>\n",
       "      <td>recommender_system_test</td>\n",
       "    </tr>\n",
       "    <tr>\n",
       "      <th>6698</th>\n",
       "      <td>F2FBBA33F37DEC46</td>\n",
       "      <td>A</td>\n",
       "      <td>recommender_system_test</td>\n",
       "    </tr>\n",
       "    <tr>\n",
       "      <th>6699</th>\n",
       "      <td>29C92313A98B1176</td>\n",
       "      <td>B</td>\n",
       "      <td>recommender_system_test</td>\n",
       "    </tr>\n",
       "    <tr>\n",
       "      <th>6700</th>\n",
       "      <td>6715343AFBA285AE</td>\n",
       "      <td>B</td>\n",
       "      <td>recommender_system_test</td>\n",
       "    </tr>\n",
       "  </tbody>\n",
       "</table>\n",
       "<p>6701 rows × 3 columns</p>\n",
       "</div>"
      ],
      "text/plain": [
       "               user_id group                  ab_test\n",
       "0     D1ABA3E2887B6A73     A  recommender_system_test\n",
       "1     A7A3664BD6242119     A  recommender_system_test\n",
       "2     DABC14FDDFADD29E     A  recommender_system_test\n",
       "3     04988C5DF189632E     A  recommender_system_test\n",
       "4     482F14783456D21B     B  recommender_system_test\n",
       "...                ...   ...                      ...\n",
       "6696  053FB26D6D49EDDC     A  recommender_system_test\n",
       "6697  9D263B8EF15CF188     B  recommender_system_test\n",
       "6698  F2FBBA33F37DEC46     A  recommender_system_test\n",
       "6699  29C92313A98B1176     B  recommender_system_test\n",
       "6700  6715343AFBA285AE     B  recommender_system_test\n",
       "\n",
       "[6701 rows x 3 columns]"
      ]
     },
     "execution_count": 37,
     "metadata": {},
     "output_type": "execute_result"
    }
   ],
   "source": [
    "#создаем таблицу с нужным тестом\n",
    "recommender_system_test = final_ab_participants[final_ab_participants['ab_test'] == 'recommender_system_test']\n",
    "recommender_system_test\n"
   ]
  },
  {
   "cell_type": "code",
   "execution_count": 38,
   "metadata": {},
   "outputs": [
    {
     "data": {
      "text/plain": [
       "6701"
      ]
     },
     "execution_count": 38,
     "metadata": {},
     "output_type": "execute_result"
    }
   ],
   "source": [
    "# подсчет кол-ва уникальных пользователей\n",
    "len(recommender_system_test['user_id'].unique())"
   ]
  },
  {
   "cell_type": "markdown",
   "metadata": {},
   "source": [
    "В 2х группах теста приняли участие 6701 пользователей.\n",
    "Больше пользователей не так плохо, как меньше - это только поднимет чувствительность теста.\n"
   ]
  },
  {
   "cell_type": "markdown",
   "metadata": {},
   "source": [
    "\n",
    "<a id=\"22\"></a> \n",
    "### Вычисление размера групп"
   ]
  },
  {
   "cell_type": "code",
   "execution_count": 39,
   "metadata": {},
   "outputs": [
    {
     "name": "stdout",
     "output_type": "stream",
     "text": [
      "3824 2877 6701\n"
     ]
    }
   ],
   "source": [
    "#создание 2х таблиц с пользователями группы А и В\n",
    "temp = recommender_system_test.copy()\n",
    "temp = temp.drop(columns=['ab_test'])\n",
    "temp_A = temp.loc[temp['group'] == 'A']\n",
    "temp_B = temp.loc[temp['group'] == 'B']\n",
    "print(len(temp_A),len(temp_B), len(temp_A)+len(temp_B))"
   ]
  },
  {
   "cell_type": "code",
   "execution_count": 40,
   "metadata": {},
   "outputs": [
    {
     "data": {
      "text/html": [
       "<div>\n",
       "<style scoped>\n",
       "    .dataframe tbody tr th:only-of-type {\n",
       "        vertical-align: middle;\n",
       "    }\n",
       "\n",
       "    .dataframe tbody tr th {\n",
       "        vertical-align: top;\n",
       "    }\n",
       "\n",
       "    .dataframe thead th {\n",
       "        text-align: right;\n",
       "    }\n",
       "</style>\n",
       "<table border=\"1\" class=\"dataframe\">\n",
       "  <thead>\n",
       "    <tr style=\"text-align: right;\">\n",
       "      <th></th>\n",
       "      <th>user_id</th>\n",
       "      <th>group</th>\n",
       "    </tr>\n",
       "  </thead>\n",
       "  <tbody>\n",
       "  </tbody>\n",
       "</table>\n",
       "</div>"
      ],
      "text/plain": [
       "Empty DataFrame\n",
       "Columns: [user_id, group]\n",
       "Index: []"
      ]
     },
     "execution_count": 40,
     "metadata": {},
     "output_type": "execute_result"
    }
   ],
   "source": [
    "#проверка на пересечение групп\n",
    "temp_A.loc[temp_A['user_id'].isin(temp_B['user_id'])]"
   ]
  },
  {
   "cell_type": "markdown",
   "metadata": {},
   "source": [
    "Различное количество пользователей в группах - нужно учитывать при дальнейшем проведении теста. \n",
    "\n",
    "С одной стороны это не должно сказаться на относительных метриках, но скажется на абсолютных."
   ]
  },
  {
   "cell_type": "markdown",
   "metadata": {},
   "source": [
    "\n",
    "<a id=\"23\"></a> \n",
    "### Создание переменных для анализа"
   ]
  },
  {
   "cell_type": "markdown",
   "metadata": {},
   "source": [
    "Создадим новые переменные orders - содержащую в себе следующую информацию:\n",
    "\n",
    "    - user_id - идентификатор пользователя, совершившего заказ;\n",
    "    - event_name - название события;   \n",
    "    - details - стоимость заказа(или пустое еслм это был не заказ);\n",
    "    - dt - дата, когда был совершён заказ;\n",
    "    - group - группа A/B-теста, в которую попал заказ.\n",
    "    \n",
    "payers:\n",
    "\n",
    "    - dt - дата;\n",
    "    - group — группа A/B-теста;\n",
    "    - payers — количество пользователей в указанную дату в указанной группе A/B-теста."
   ]
  },
  {
   "cell_type": "markdown",
   "metadata": {},
   "source": [
    "Сначла проверим еcть ли \"лишние\" пользователи в таблице final_ab_events"
   ]
  },
  {
   "cell_type": "code",
   "execution_count": 41,
   "metadata": {},
   "outputs": [
    {
     "name": "stdout",
     "output_type": "stream",
     "text": [
      "55032 событий необходимо удалить из таблицы \"final_ab_events\",\n",
      "так как пользователи совершившие эти действия не принимали учатие в A/B тесте\n"
     ]
    }
   ],
   "source": [
    "profiles = final_ab_new_users.copy()\n",
    "#проверка\n",
    "temp = len(profiles)-len(profiles.loc[profiles['user_id'].isin(recommender_system_test['user_id'])])\n",
    "print(f'''{temp} событий необходимо удалить из таблицы \"final_ab_events\",\n",
    "так как пользователи совершившие эти действия не принимали учатие в A/B тесте''')"
   ]
  },
  {
   "cell_type": "code",
   "execution_count": 42,
   "metadata": {},
   "outputs": [],
   "source": [
    "#cоздаем список id которые не участвовали в тесте\n",
    "id_not_ab = list(set(profiles['user_id']) - set(recommender_system_test['user_id']))\n",
    "#меняет индекс на колонку 'user-id'\n",
    "profiles = profiles.set_index('user_id')\n",
    "#удаляем строки c id которые не вошли в тест\n",
    "profiles = profiles.drop(id_not_ab, axis = 0)\n",
    "#возвращаем индекс\n",
    "profiles = profiles.reset_index()"
   ]
  },
  {
   "cell_type": "markdown",
   "metadata": {},
   "source": [
    "Теперь присвоим пользователям их группы"
   ]
  },
  {
   "cell_type": "code",
   "execution_count": 43,
   "metadata": {},
   "outputs": [
    {
     "data": {
      "text/plain": [
       "array(['A', 'B'], dtype=object)"
      ]
     },
     "execution_count": 43,
     "metadata": {},
     "output_type": "execute_result"
    }
   ],
   "source": [
    "#создадим колонку 'group' и запишем в нее 'C' для проверки\n",
    "profiles['group'] = 'C'\n",
    "temp_a = temp_A['user_id'].unique()\n",
    "temp_b = temp_B['user_id'].unique()\n",
    "for i in range(len(profiles)): \n",
    "    if profiles['user_id'][i] in temp_a:\n",
    "        profiles.loc[i,'group'] = 'A'\n",
    "    elif profiles['user_id'][i] in temp_b:\n",
    "        profiles.loc[i,'group'] = 'B'\n",
    "#если будут только 'A' и 'B' значит все выполнилось так как нам нужно\n",
    "profiles['group'].unique()"
   ]
  },
  {
   "cell_type": "code",
   "execution_count": 44,
   "metadata": {},
   "outputs": [
    {
     "data": {
      "text/html": [
       "<div>\n",
       "<style scoped>\n",
       "    .dataframe tbody tr th:only-of-type {\n",
       "        vertical-align: middle;\n",
       "    }\n",
       "\n",
       "    .dataframe tbody tr th {\n",
       "        vertical-align: top;\n",
       "    }\n",
       "\n",
       "    .dataframe thead th {\n",
       "        text-align: right;\n",
       "    }\n",
       "</style>\n",
       "<table border=\"1\" class=\"dataframe\">\n",
       "  <thead>\n",
       "    <tr style=\"text-align: right;\">\n",
       "      <th></th>\n",
       "      <th>user_id</th>\n",
       "      <th>first_date</th>\n",
       "      <th>region</th>\n",
       "      <th>device</th>\n",
       "      <th>group</th>\n",
       "    </tr>\n",
       "  </thead>\n",
       "  <tbody>\n",
       "    <tr>\n",
       "      <th>0</th>\n",
       "      <td>D72A72121175D8BE</td>\n",
       "      <td>2020-12-07</td>\n",
       "      <td>EU</td>\n",
       "      <td>PC</td>\n",
       "      <td>A</td>\n",
       "    </tr>\n",
       "    <tr>\n",
       "      <th>1</th>\n",
       "      <td>E6DE857AFBDC6102</td>\n",
       "      <td>2020-12-07</td>\n",
       "      <td>EU</td>\n",
       "      <td>PC</td>\n",
       "      <td>B</td>\n",
       "    </tr>\n",
       "    <tr>\n",
       "      <th>2</th>\n",
       "      <td>DD4352CDCF8C3D57</td>\n",
       "      <td>2020-12-07</td>\n",
       "      <td>EU</td>\n",
       "      <td>Android</td>\n",
       "      <td>B</td>\n",
       "    </tr>\n",
       "    <tr>\n",
       "      <th>3</th>\n",
       "      <td>831887FE7F2D6CBA</td>\n",
       "      <td>2020-12-07</td>\n",
       "      <td>EU</td>\n",
       "      <td>Android</td>\n",
       "      <td>A</td>\n",
       "    </tr>\n",
       "    <tr>\n",
       "      <th>4</th>\n",
       "      <td>4CB179C7F847320B</td>\n",
       "      <td>2020-12-07</td>\n",
       "      <td>EU</td>\n",
       "      <td>iPhone</td>\n",
       "      <td>B</td>\n",
       "    </tr>\n",
       "    <tr>\n",
       "      <th>...</th>\n",
       "      <td>...</td>\n",
       "      <td>...</td>\n",
       "      <td>...</td>\n",
       "      <td>...</td>\n",
       "      <td>...</td>\n",
       "    </tr>\n",
       "    <tr>\n",
       "      <th>6696</th>\n",
       "      <td>A09DFE27D4CFF8E8</td>\n",
       "      <td>2020-12-20</td>\n",
       "      <td>EU</td>\n",
       "      <td>Android</td>\n",
       "      <td>B</td>\n",
       "    </tr>\n",
       "    <tr>\n",
       "      <th>6697</th>\n",
       "      <td>0F7D49FC184EDCDE</td>\n",
       "      <td>2020-12-20</td>\n",
       "      <td>EU</td>\n",
       "      <td>PC</td>\n",
       "      <td>A</td>\n",
       "    </tr>\n",
       "    <tr>\n",
       "      <th>6698</th>\n",
       "      <td>574ACBC674BC385D</td>\n",
       "      <td>2020-12-20</td>\n",
       "      <td>EU</td>\n",
       "      <td>Mac</td>\n",
       "      <td>A</td>\n",
       "    </tr>\n",
       "    <tr>\n",
       "      <th>6699</th>\n",
       "      <td>0416B34D35C8C8B8</td>\n",
       "      <td>2020-12-20</td>\n",
       "      <td>EU</td>\n",
       "      <td>Android</td>\n",
       "      <td>A</td>\n",
       "    </tr>\n",
       "    <tr>\n",
       "      <th>6700</th>\n",
       "      <td>89CB0BFBC3F35126</td>\n",
       "      <td>2020-12-20</td>\n",
       "      <td>EU</td>\n",
       "      <td>PC</td>\n",
       "      <td>B</td>\n",
       "    </tr>\n",
       "  </tbody>\n",
       "</table>\n",
       "<p>6701 rows × 5 columns</p>\n",
       "</div>"
      ],
      "text/plain": [
       "               user_id first_date region   device group\n",
       "0     D72A72121175D8BE 2020-12-07     EU       PC     A\n",
       "1     E6DE857AFBDC6102 2020-12-07     EU       PC     B\n",
       "2     DD4352CDCF8C3D57 2020-12-07     EU  Android     B\n",
       "3     831887FE7F2D6CBA 2020-12-07     EU  Android     A\n",
       "4     4CB179C7F847320B 2020-12-07     EU   iPhone     B\n",
       "...                ...        ...    ...      ...   ...\n",
       "6696  A09DFE27D4CFF8E8 2020-12-20     EU  Android     B\n",
       "6697  0F7D49FC184EDCDE 2020-12-20     EU       PC     A\n",
       "6698  574ACBC674BC385D 2020-12-20     EU      Mac     A\n",
       "6699  0416B34D35C8C8B8 2020-12-20     EU  Android     A\n",
       "6700  89CB0BFBC3F35126 2020-12-20     EU       PC     B\n",
       "\n",
       "[6701 rows x 5 columns]"
      ]
     },
     "execution_count": 44,
     "metadata": {},
     "output_type": "execute_result"
    }
   ],
   "source": [
    "profiles"
   ]
  },
  {
   "cell_type": "markdown",
   "metadata": {},
   "source": [
    "Повторим шаги для orders"
   ]
  },
  {
   "cell_type": "code",
   "execution_count": 45,
   "metadata": {},
   "outputs": [
    {
     "name": "stdout",
     "output_type": "stream",
     "text": [
      "268398 событий необходимо удалить из таблицы \"final_ab_events\",\n",
      "так как пользователи совершившие эти действия не принимали учатие в A/B тесте\n"
     ]
    }
   ],
   "source": [
    "orders = final_ab_events.copy()\n",
    "orders['dt'] = orders['event_dt'].dt.round('1D')\n",
    "orders = orders[(orders['dt'] >= '2020-12-07') & (orders['dt'] <= '2020-12-21')]\n",
    "#проверка\n",
    "temp = len(orders)-len(orders.loc[orders['user_id'].isin(recommender_system_test['user_id'])])\n",
    "print(f'''{temp} событий необходимо удалить из таблицы \"final_ab_events\",\n",
    "так как пользователи совершившие эти действия не принимали учатие в A/B тесте''')"
   ]
  },
  {
   "cell_type": "code",
   "execution_count": 46,
   "metadata": {},
   "outputs": [],
   "source": [
    "#cоздаем список id которые не участвовали в тесте\n",
    "id_not_ab = list(set(orders['user_id']) - set(recommender_system_test['user_id']))\n",
    "#меняет индекс на колонку 'user-id'\n",
    "orders = orders.set_index('user_id')\n",
    "#удаляем строки c id которые не вошли в тест\n",
    "orders = orders.drop(id_not_ab, axis = 0)\n",
    "#возвращаем индекс\n",
    "orders = orders.reset_index()"
   ]
  },
  {
   "cell_type": "code",
   "execution_count": 47,
   "metadata": {},
   "outputs": [
    {
     "data": {
      "text/plain": [
       "array(['A', 'B'], dtype=object)"
      ]
     },
     "execution_count": 47,
     "metadata": {},
     "output_type": "execute_result"
    }
   ],
   "source": [
    "#создадим колонку 'group' и запишем в нее 'C' для проверки\n",
    "orders['group'] = 'C'\n",
    "temp_a = temp_A['user_id'].unique()\n",
    "temp_b = temp_B['user_id'].unique()\n",
    "for i in range(len(orders)): \n",
    "    if orders['user_id'][i] in temp_a:\n",
    "        orders.loc[i,'group'] = 'A'\n",
    "    elif orders['user_id'][i] in temp_b:\n",
    "        orders.loc[i,'group'] = 'B'\n",
    "#если будут только 'A' и 'B' значит все выполнилось так как нам нужно\n",
    "orders['group'].unique()"
   ]
  },
  {
   "cell_type": "code",
   "execution_count": 48,
   "metadata": {
    "scrolled": false
   },
   "outputs": [
    {
     "data": {
      "text/html": [
       "<div>\n",
       "<style scoped>\n",
       "    .dataframe tbody tr th:only-of-type {\n",
       "        vertical-align: middle;\n",
       "    }\n",
       "\n",
       "    .dataframe tbody tr th {\n",
       "        vertical-align: top;\n",
       "    }\n",
       "\n",
       "    .dataframe thead th {\n",
       "        text-align: right;\n",
       "    }\n",
       "</style>\n",
       "<table border=\"1\" class=\"dataframe\">\n",
       "  <thead>\n",
       "    <tr style=\"text-align: right;\">\n",
       "      <th></th>\n",
       "      <th>user_id</th>\n",
       "      <th>event_name</th>\n",
       "      <th>details</th>\n",
       "      <th>dt</th>\n",
       "      <th>group</th>\n",
       "    </tr>\n",
       "  </thead>\n",
       "  <tbody>\n",
       "    <tr>\n",
       "      <th>0</th>\n",
       "      <td>831887FE7F2D6CBA</td>\n",
       "      <td>purchase</td>\n",
       "      <td>4.99</td>\n",
       "      <td>2020-12-07</td>\n",
       "      <td>A</td>\n",
       "    </tr>\n",
       "    <tr>\n",
       "      <th>1</th>\n",
       "      <td>3C5DD0288AC4FE23</td>\n",
       "      <td>purchase</td>\n",
       "      <td>4.99</td>\n",
       "      <td>2020-12-08</td>\n",
       "      <td>A</td>\n",
       "    </tr>\n",
       "    <tr>\n",
       "      <th>2</th>\n",
       "      <td>49EA242586C87836</td>\n",
       "      <td>purchase</td>\n",
       "      <td>99.99</td>\n",
       "      <td>2020-12-07</td>\n",
       "      <td>B</td>\n",
       "    </tr>\n",
       "    <tr>\n",
       "      <th>3</th>\n",
       "      <td>2B06EB547B7AAD08</td>\n",
       "      <td>purchase</td>\n",
       "      <td>4.99</td>\n",
       "      <td>2020-12-08</td>\n",
       "      <td>A</td>\n",
       "    </tr>\n",
       "    <tr>\n",
       "      <th>4</th>\n",
       "      <td>A640F31CAC7823A6</td>\n",
       "      <td>purchase</td>\n",
       "      <td>4.99</td>\n",
       "      <td>2020-12-08</td>\n",
       "      <td>B</td>\n",
       "    </tr>\n",
       "    <tr>\n",
       "      <th>...</th>\n",
       "      <td>...</td>\n",
       "      <td>...</td>\n",
       "      <td>...</td>\n",
       "      <td>...</td>\n",
       "      <td>...</td>\n",
       "    </tr>\n",
       "    <tr>\n",
       "      <th>16372</th>\n",
       "      <td>FA8706D1E274805E</td>\n",
       "      <td>login</td>\n",
       "      <td>NaN</td>\n",
       "      <td>2020-12-21</td>\n",
       "      <td>B</td>\n",
       "    </tr>\n",
       "    <tr>\n",
       "      <th>16373</th>\n",
       "      <td>5D7099BA15597D3D</td>\n",
       "      <td>login</td>\n",
       "      <td>NaN</td>\n",
       "      <td>2020-12-21</td>\n",
       "      <td>A</td>\n",
       "    </tr>\n",
       "    <tr>\n",
       "      <th>16374</th>\n",
       "      <td>E6A7D9D321098C74</td>\n",
       "      <td>login</td>\n",
       "      <td>NaN</td>\n",
       "      <td>2020-12-21</td>\n",
       "      <td>A</td>\n",
       "    </tr>\n",
       "    <tr>\n",
       "      <th>16375</th>\n",
       "      <td>A09DFE27D4CFF8E8</td>\n",
       "      <td>login</td>\n",
       "      <td>NaN</td>\n",
       "      <td>2020-12-21</td>\n",
       "      <td>B</td>\n",
       "    </tr>\n",
       "    <tr>\n",
       "      <th>16376</th>\n",
       "      <td>0F7D49FC184EDCDE</td>\n",
       "      <td>login</td>\n",
       "      <td>NaN</td>\n",
       "      <td>2020-12-21</td>\n",
       "      <td>A</td>\n",
       "    </tr>\n",
       "  </tbody>\n",
       "</table>\n",
       "<p>16377 rows × 5 columns</p>\n",
       "</div>"
      ],
      "text/plain": [
       "                user_id event_name  details         dt group\n",
       "0      831887FE7F2D6CBA   purchase     4.99 2020-12-07     A\n",
       "1      3C5DD0288AC4FE23   purchase     4.99 2020-12-08     A\n",
       "2      49EA242586C87836   purchase    99.99 2020-12-07     B\n",
       "3      2B06EB547B7AAD08   purchase     4.99 2020-12-08     A\n",
       "4      A640F31CAC7823A6   purchase     4.99 2020-12-08     B\n",
       "...                 ...        ...      ...        ...   ...\n",
       "16372  FA8706D1E274805E      login      NaN 2020-12-21     B\n",
       "16373  5D7099BA15597D3D      login      NaN 2020-12-21     A\n",
       "16374  E6A7D9D321098C74      login      NaN 2020-12-21     A\n",
       "16375  A09DFE27D4CFF8E8      login      NaN 2020-12-21     B\n",
       "16376  0F7D49FC184EDCDE      login      NaN 2020-12-21     A\n",
       "\n",
       "[16377 rows x 5 columns]"
      ]
     },
     "execution_count": 48,
     "metadata": {},
     "output_type": "execute_result"
    }
   ],
   "source": [
    "orders['dt'] = orders['event_dt'].dt.round('1D')\n",
    "orders = orders.drop(columns=['event_dt'])\n",
    "#orders = orders[orders['event_name'] == 'purchase']\n",
    "orders"
   ]
  },
  {
   "cell_type": "code",
   "execution_count": 49,
   "metadata": {},
   "outputs": [
    {
     "name": "stdout",
     "output_type": "stream",
     "text": [
      "2530 883 3413\n"
     ]
    }
   ],
   "source": [
    "#создание 2х таблиц с пользователями группы А и В\n",
    "temp = orders.copy()\n",
    "temp = temp.loc[:,['user_id','group']]\n",
    "temp = temp.drop_duplicates().reset_index(drop=True)\n",
    "temp_A = temp.loc[temp['group'] == 'A']\n",
    "temp_B = temp.loc[temp['group'] == 'B']\n",
    "print(len(temp_A),len(temp_B), len(temp_A)+len(temp_B))"
   ]
  },
  {
   "cell_type": "code",
   "execution_count": 50,
   "metadata": {},
   "outputs": [
    {
     "data": {
      "text/plain": [
       "3288"
      ]
     },
     "execution_count": 50,
     "metadata": {},
     "output_type": "execute_result"
    }
   ],
   "source": [
    "id_not_ab = list(set(orders['user_id']) ^ set(recommender_system_test['user_id']))\n",
    "len(id_not_ab)"
   ]
  },
  {
   "cell_type": "code",
   "execution_count": null,
   "metadata": {},
   "outputs": [],
   "source": []
  },
  {
   "cell_type": "code",
   "execution_count": null,
   "metadata": {},
   "outputs": [],
   "source": []
  },
  {
   "cell_type": "code",
   "execution_count": null,
   "metadata": {},
   "outputs": [],
   "source": []
  },
  {
   "cell_type": "code",
   "execution_count": 51,
   "metadata": {},
   "outputs": [
    {
     "name": "stdout",
     "output_type": "stream",
     "text": [
      "--- 6.813538551330566 seconds ---\n"
     ]
    }
   ],
   "source": [
    "print(\"--- %s seconds ---\" % (time.time() - start_time))"
   ]
  },
  {
   "cell_type": "code",
   "execution_count": null,
   "metadata": {},
   "outputs": [],
   "source": []
  }
 ],
 "metadata": {
  "ExecuteTimeLog": [
   {
    "duration": 1111,
    "start_time": "2022-12-19T00:40:08.717Z"
   },
   {
    "duration": 1020,
    "start_time": "2022-12-19T00:40:10.287Z"
   },
   {
    "duration": 3,
    "start_time": "2022-12-19T00:41:12.701Z"
   },
   {
    "duration": 940,
    "start_time": "2022-12-19T00:41:12.706Z"
   },
   {
    "duration": 11,
    "start_time": "2022-12-19T00:41:13.648Z"
   },
   {
    "duration": 16,
    "start_time": "2022-12-19T00:41:13.660Z"
   },
   {
    "duration": 20,
    "start_time": "2022-12-19T00:41:13.678Z"
   },
   {
    "duration": 14,
    "start_time": "2022-12-19T00:41:13.700Z"
   },
   {
    "duration": 63,
    "start_time": "2022-12-19T00:41:13.716Z"
   },
   {
    "duration": 12,
    "start_time": "2022-12-19T00:41:13.781Z"
   },
   {
    "duration": 27,
    "start_time": "2022-12-19T00:41:13.795Z"
   },
   {
    "duration": 8,
    "start_time": "2022-12-19T00:41:13.824Z"
   },
   {
    "duration": 5,
    "start_time": "2022-12-19T00:43:12.965Z"
   },
   {
    "duration": 5,
    "start_time": "2022-12-19T00:43:17.439Z"
   },
   {
    "duration": 52,
    "start_time": "2022-12-19T09:14:54.588Z"
   },
   {
    "duration": 544,
    "start_time": "2022-12-19T09:14:58.125Z"
   },
   {
    "duration": 3536,
    "start_time": "2022-12-19T09:14:59.217Z"
   },
   {
    "duration": 15,
    "start_time": "2022-12-19T09:15:02.755Z"
   },
   {
    "duration": 20,
    "start_time": "2022-12-19T09:15:03.497Z"
   },
   {
    "duration": 7,
    "start_time": "2022-12-19T09:15:03.886Z"
   },
   {
    "duration": 11,
    "start_time": "2022-12-19T09:15:05.886Z"
   },
   {
    "duration": 10,
    "start_time": "2022-12-19T09:15:06.918Z"
   },
   {
    "duration": 5,
    "start_time": "2022-12-19T09:15:44.497Z"
   },
   {
    "duration": 5,
    "start_time": "2022-12-19T09:16:29.768Z"
   },
   {
    "duration": 5,
    "start_time": "2022-12-19T09:16:54.158Z"
   },
   {
    "duration": 6,
    "start_time": "2022-12-19T09:16:58.378Z"
   },
   {
    "duration": 5,
    "start_time": "2022-12-19T09:17:05.296Z"
   },
   {
    "duration": 4,
    "start_time": "2022-12-19T09:17:17.547Z"
   },
   {
    "duration": 4,
    "start_time": "2022-12-19T09:17:40.260Z"
   },
   {
    "duration": 33,
    "start_time": "2022-12-19T09:18:21.008Z"
   },
   {
    "duration": 7,
    "start_time": "2022-12-19T09:18:52.229Z"
   },
   {
    "duration": 11,
    "start_time": "2022-12-19T09:18:57.319Z"
   },
   {
    "duration": 4,
    "start_time": "2022-12-19T09:19:01.792Z"
   },
   {
    "duration": 4,
    "start_time": "2022-12-19T09:19:16.901Z"
   },
   {
    "duration": 4,
    "start_time": "2022-12-19T09:19:32.048Z"
   },
   {
    "duration": 4,
    "start_time": "2022-12-19T09:19:32.238Z"
   },
   {
    "duration": 37,
    "start_time": "2022-12-19T09:20:36.420Z"
   },
   {
    "duration": 15,
    "start_time": "2022-12-19T09:20:36.849Z"
   },
   {
    "duration": 8,
    "start_time": "2022-12-19T09:21:09.860Z"
   },
   {
    "duration": 7,
    "start_time": "2022-12-19T09:21:11.060Z"
   },
   {
    "duration": 5,
    "start_time": "2022-12-19T09:22:06.832Z"
   },
   {
    "duration": 5,
    "start_time": "2022-12-19T09:22:07.779Z"
   },
   {
    "duration": 5,
    "start_time": "2022-12-19T09:22:36.380Z"
   },
   {
    "duration": 275,
    "start_time": "2022-12-19T09:24:25.294Z"
   },
   {
    "duration": 110,
    "start_time": "2022-12-19T09:24:26.470Z"
   },
   {
    "duration": 903,
    "start_time": "2022-12-19T09:24:28.461Z"
   },
   {
    "duration": 6,
    "start_time": "2022-12-19T09:24:33.863Z"
   },
   {
    "duration": 6,
    "start_time": "2022-12-19T09:24:35.869Z"
   },
   {
    "duration": 25,
    "start_time": "2022-12-19T09:24:40.303Z"
   },
   {
    "duration": 28,
    "start_time": "2022-12-19T09:25:04.503Z"
   },
   {
    "duration": 11,
    "start_time": "2022-12-19T10:53:33.655Z"
   },
   {
    "duration": 5,
    "start_time": "2022-12-19T10:53:33.865Z"
   },
   {
    "duration": 5,
    "start_time": "2022-12-19T10:53:34.075Z"
   },
   {
    "duration": 3,
    "start_time": "2022-12-19T12:17:57.775Z"
   },
   {
    "duration": 1107,
    "start_time": "2022-12-19T12:17:57.781Z"
   },
   {
    "duration": 12,
    "start_time": "2022-12-19T12:17:58.890Z"
   },
   {
    "duration": 35,
    "start_time": "2022-12-19T12:17:58.908Z"
   },
   {
    "duration": 12,
    "start_time": "2022-12-19T12:17:58.945Z"
   },
   {
    "duration": 15,
    "start_time": "2022-12-19T12:17:58.959Z"
   },
   {
    "duration": 16,
    "start_time": "2022-12-19T12:17:58.975Z"
   },
   {
    "duration": 27,
    "start_time": "2022-12-19T12:17:58.994Z"
   },
   {
    "duration": 22,
    "start_time": "2022-12-19T12:17:59.023Z"
   },
   {
    "duration": 14,
    "start_time": "2022-12-19T12:17:59.048Z"
   },
   {
    "duration": 23,
    "start_time": "2022-12-19T12:17:59.064Z"
   },
   {
    "duration": 17,
    "start_time": "2022-12-19T12:17:59.089Z"
   },
   {
    "duration": 31,
    "start_time": "2022-12-19T12:17:59.108Z"
   },
   {
    "duration": 20,
    "start_time": "2022-12-19T12:17:59.141Z"
   },
   {
    "duration": 47,
    "start_time": "2022-12-19T12:17:59.162Z"
   },
   {
    "duration": 13,
    "start_time": "2022-12-19T12:17:59.211Z"
   },
   {
    "duration": 14,
    "start_time": "2022-12-19T12:17:59.226Z"
   },
   {
    "duration": 35,
    "start_time": "2022-12-19T12:17:59.243Z"
   },
   {
    "duration": 33,
    "start_time": "2022-12-19T12:17:59.280Z"
   },
   {
    "duration": 36,
    "start_time": "2022-12-19T12:17:59.316Z"
   },
   {
    "duration": 79,
    "start_time": "2022-12-19T12:17:59.354Z"
   },
   {
    "duration": 16,
    "start_time": "2022-12-19T12:17:59.435Z"
   },
   {
    "duration": 310,
    "start_time": "2022-12-19T12:17:59.454Z"
   },
   {
    "duration": 89,
    "start_time": "2022-12-19T12:17:59.766Z"
   },
   {
    "duration": 11,
    "start_time": "2022-12-19T12:17:59.857Z"
   },
   {
    "duration": 29,
    "start_time": "2022-12-19T12:17:59.869Z"
   },
   {
    "duration": 50,
    "start_time": "2022-12-19T12:17:59.900Z"
   },
   {
    "duration": 30,
    "start_time": "2022-12-19T12:17:59.954Z"
   },
   {
    "duration": 14,
    "start_time": "2022-12-19T12:17:59.986Z"
   },
   {
    "duration": 52,
    "start_time": "2022-12-19T12:18:00.001Z"
   },
   {
    "duration": 58,
    "start_time": "2022-12-19T12:18:00.055Z"
   },
   {
    "duration": 72,
    "start_time": "2022-12-19T12:18:00.116Z"
   },
   {
    "duration": 74,
    "start_time": "2022-12-19T12:18:00.190Z"
   },
   {
    "duration": 16,
    "start_time": "2022-12-19T12:22:03.384Z"
   },
   {
    "duration": 14,
    "start_time": "2022-12-19T12:22:11.630Z"
   },
   {
    "duration": 9,
    "start_time": "2022-12-19T12:22:21.991Z"
   },
   {
    "duration": 9,
    "start_time": "2022-12-19T12:25:32.697Z"
   },
   {
    "duration": 43,
    "start_time": "2022-12-19T12:25:36.461Z"
   },
   {
    "duration": 8,
    "start_time": "2022-12-19T12:26:06.421Z"
   },
   {
    "duration": 7,
    "start_time": "2022-12-19T12:26:10.862Z"
   },
   {
    "duration": 9,
    "start_time": "2022-12-19T12:26:16.858Z"
   },
   {
    "duration": 9,
    "start_time": "2022-12-19T12:26:19.772Z"
   },
   {
    "duration": 8,
    "start_time": "2022-12-19T12:26:24.200Z"
   },
   {
    "duration": 8,
    "start_time": "2022-12-19T12:26:40.124Z"
   },
   {
    "duration": 3,
    "start_time": "2022-12-19T12:26:48.223Z"
   },
   {
    "duration": 8,
    "start_time": "2022-12-19T12:26:53.725Z"
   },
   {
    "duration": 8,
    "start_time": "2022-12-19T12:26:57.963Z"
   },
   {
    "duration": 8,
    "start_time": "2022-12-19T12:27:30.474Z"
   },
   {
    "duration": 55,
    "start_time": "2022-12-19T12:28:03.597Z"
   },
   {
    "duration": 53,
    "start_time": "2022-12-19T12:28:22.593Z"
   },
   {
    "duration": 60,
    "start_time": "2022-12-19T12:28:37.335Z"
   },
   {
    "duration": 54,
    "start_time": "2022-12-19T12:28:45.025Z"
   },
   {
    "duration": 78,
    "start_time": "2022-12-19T12:28:49.516Z"
   },
   {
    "duration": 72,
    "start_time": "2022-12-19T12:29:29.193Z"
   },
   {
    "duration": 532,
    "start_time": "2022-12-19T12:30:16.516Z"
   },
   {
    "duration": 1134,
    "start_time": "2022-12-19T12:30:17.050Z"
   },
   {
    "duration": 11,
    "start_time": "2022-12-19T12:30:18.186Z"
   },
   {
    "duration": 30,
    "start_time": "2022-12-19T12:30:18.199Z"
   },
   {
    "duration": 5,
    "start_time": "2022-12-19T12:30:18.231Z"
   },
   {
    "duration": 17,
    "start_time": "2022-12-19T12:30:18.237Z"
   },
   {
    "duration": 25,
    "start_time": "2022-12-19T12:30:18.256Z"
   },
   {
    "duration": 16,
    "start_time": "2022-12-19T12:30:18.282Z"
   },
   {
    "duration": 33,
    "start_time": "2022-12-19T12:30:18.299Z"
   },
   {
    "duration": 18,
    "start_time": "2022-12-19T12:30:18.333Z"
   },
   {
    "duration": 21,
    "start_time": "2022-12-19T12:30:18.353Z"
   },
   {
    "duration": 9,
    "start_time": "2022-12-19T12:30:18.376Z"
   },
   {
    "duration": 34,
    "start_time": "2022-12-19T12:30:18.386Z"
   },
   {
    "duration": 9,
    "start_time": "2022-12-19T12:30:18.423Z"
   },
   {
    "duration": 43,
    "start_time": "2022-12-19T12:30:18.433Z"
   },
   {
    "duration": 12,
    "start_time": "2022-12-19T12:30:18.477Z"
   },
   {
    "duration": 24,
    "start_time": "2022-12-19T12:30:18.490Z"
   },
   {
    "duration": 28,
    "start_time": "2022-12-19T12:30:18.515Z"
   },
   {
    "duration": 13,
    "start_time": "2022-12-19T12:30:18.545Z"
   },
   {
    "duration": 8,
    "start_time": "2022-12-19T12:30:18.560Z"
   },
   {
    "duration": 80,
    "start_time": "2022-12-19T12:30:18.569Z"
   },
   {
    "duration": 10,
    "start_time": "2022-12-19T12:30:18.650Z"
   },
   {
    "duration": 301,
    "start_time": "2022-12-19T12:30:18.661Z"
   },
   {
    "duration": 60,
    "start_time": "2022-12-19T12:30:18.964Z"
   },
   {
    "duration": 138,
    "start_time": "2022-12-19T12:30:19.036Z"
   },
   {
    "duration": 88,
    "start_time": "2022-12-19T12:30:19.175Z"
   },
   {
    "duration": 8,
    "start_time": "2022-12-19T12:30:19.264Z"
   },
   {
    "duration": 12,
    "start_time": "2022-12-19T12:30:19.274Z"
   },
   {
    "duration": 48,
    "start_time": "2022-12-19T12:30:19.288Z"
   },
   {
    "duration": 26,
    "start_time": "2022-12-19T12:30:19.339Z"
   },
   {
    "duration": 13,
    "start_time": "2022-12-19T12:30:19.367Z"
   },
   {
    "duration": 11,
    "start_time": "2022-12-19T12:30:19.382Z"
   },
   {
    "duration": 22,
    "start_time": "2022-12-19T12:30:19.395Z"
   },
   {
    "duration": 6,
    "start_time": "2022-12-19T12:30:19.436Z"
   },
   {
    "duration": 18,
    "start_time": "2022-12-19T12:30:19.444Z"
   },
   {
    "duration": 10,
    "start_time": "2022-12-19T13:29:26.196Z"
   },
   {
    "duration": 7,
    "start_time": "2022-12-19T13:29:56.080Z"
   },
   {
    "duration": 5,
    "start_time": "2022-12-19T13:30:01.157Z"
   },
   {
    "duration": 71,
    "start_time": "2022-12-19T13:30:35.825Z"
   },
   {
    "duration": 12,
    "start_time": "2022-12-19T13:30:42.865Z"
   },
   {
    "duration": 5,
    "start_time": "2022-12-19T13:30:54.109Z"
   },
   {
    "duration": 5,
    "start_time": "2022-12-19T13:31:19.468Z"
   },
   {
    "duration": 12,
    "start_time": "2022-12-19T13:31:24.866Z"
   },
   {
    "duration": 8,
    "start_time": "2022-12-19T13:32:13.245Z"
   },
   {
    "duration": 5,
    "start_time": "2022-12-19T13:33:21.827Z"
   },
   {
    "duration": 54,
    "start_time": "2022-12-19T13:34:48.283Z"
   },
   {
    "duration": 16,
    "start_time": "2022-12-19T13:35:27.367Z"
   },
   {
    "duration": 8,
    "start_time": "2022-12-19T13:37:01.270Z"
   },
   {
    "duration": 24,
    "start_time": "2022-12-19T13:37:07.830Z"
   },
   {
    "duration": 56,
    "start_time": "2022-12-19T13:37:22.708Z"
   },
   {
    "duration": 16,
    "start_time": "2022-12-19T13:38:10.503Z"
   },
   {
    "duration": 9,
    "start_time": "2022-12-19T13:38:43.000Z"
   },
   {
    "duration": 9,
    "start_time": "2022-12-19T13:38:51.020Z"
   },
   {
    "duration": 9,
    "start_time": "2022-12-19T13:39:38.509Z"
   },
   {
    "duration": 9,
    "start_time": "2022-12-19T13:39:47.142Z"
   },
   {
    "duration": 8,
    "start_time": "2022-12-19T13:39:47.562Z"
   },
   {
    "duration": 8,
    "start_time": "2022-12-19T13:40:04.660Z"
   },
   {
    "duration": 6,
    "start_time": "2022-12-19T13:40:14.840Z"
   },
   {
    "duration": 11,
    "start_time": "2022-12-19T13:41:18.942Z"
   },
   {
    "duration": 8,
    "start_time": "2022-12-19T13:42:04.023Z"
   },
   {
    "duration": 10,
    "start_time": "2022-12-19T13:42:22.594Z"
   },
   {
    "duration": 13,
    "start_time": "2022-12-19T13:42:33.132Z"
   },
   {
    "duration": 58,
    "start_time": "2022-12-19T13:42:43.590Z"
   },
   {
    "duration": 830,
    "start_time": "2022-12-19T13:43:17.343Z"
   },
   {
    "duration": 892,
    "start_time": "2022-12-19T13:43:26.283Z"
   },
   {
    "duration": 7,
    "start_time": "2022-12-19T13:43:37.475Z"
   },
   {
    "duration": 10,
    "start_time": "2022-12-19T13:43:42.141Z"
   },
   {
    "duration": 8,
    "start_time": "2022-12-19T13:43:46.323Z"
   },
   {
    "duration": 8,
    "start_time": "2022-12-19T13:43:58.061Z"
   },
   {
    "duration": 479,
    "start_time": "2022-12-20T10:58:29.458Z"
   },
   {
    "duration": 2411,
    "start_time": "2022-12-20T10:58:29.939Z"
   },
   {
    "duration": 9,
    "start_time": "2022-12-20T10:58:32.352Z"
   },
   {
    "duration": 30,
    "start_time": "2022-12-20T10:58:32.363Z"
   },
   {
    "duration": 25,
    "start_time": "2022-12-20T10:58:32.395Z"
   },
   {
    "duration": 32,
    "start_time": "2022-12-20T10:58:32.421Z"
   },
   {
    "duration": 32,
    "start_time": "2022-12-20T10:58:32.454Z"
   },
   {
    "duration": 22,
    "start_time": "2022-12-20T10:58:32.488Z"
   },
   {
    "duration": 52,
    "start_time": "2022-12-20T10:58:32.512Z"
   },
   {
    "duration": 49,
    "start_time": "2022-12-20T10:58:32.566Z"
   },
   {
    "duration": 29,
    "start_time": "2022-12-20T10:58:32.617Z"
   },
   {
    "duration": 24,
    "start_time": "2022-12-20T10:58:32.648Z"
   },
   {
    "duration": 51,
    "start_time": "2022-12-20T10:58:32.674Z"
   },
   {
    "duration": 28,
    "start_time": "2022-12-20T10:58:32.731Z"
   },
   {
    "duration": 58,
    "start_time": "2022-12-20T10:58:32.760Z"
   },
   {
    "duration": 27,
    "start_time": "2022-12-20T10:58:32.820Z"
   },
   {
    "duration": 20,
    "start_time": "2022-12-20T10:58:32.849Z"
   },
   {
    "duration": 34,
    "start_time": "2022-12-20T10:58:32.870Z"
   },
   {
    "duration": 36,
    "start_time": "2022-12-20T10:58:32.906Z"
   },
   {
    "duration": 18,
    "start_time": "2022-12-20T10:58:32.944Z"
   },
   {
    "duration": 79,
    "start_time": "2022-12-20T10:58:32.963Z"
   },
   {
    "duration": 7,
    "start_time": "2022-12-20T10:58:33.044Z"
   },
   {
    "duration": 270,
    "start_time": "2022-12-20T10:58:33.053Z"
   },
   {
    "duration": 55,
    "start_time": "2022-12-20T10:58:33.325Z"
   },
   {
    "duration": 132,
    "start_time": "2022-12-20T10:58:33.381Z"
   },
   {
    "duration": 89,
    "start_time": "2022-12-20T10:58:33.514Z"
   },
   {
    "duration": 23,
    "start_time": "2022-12-20T10:58:33.605Z"
   },
   {
    "duration": 47,
    "start_time": "2022-12-20T10:58:33.630Z"
   },
   {
    "duration": 46,
    "start_time": "2022-12-20T10:58:33.678Z"
   },
   {
    "duration": 49,
    "start_time": "2022-12-20T10:58:33.726Z"
   },
   {
    "duration": 10,
    "start_time": "2022-12-20T10:58:33.777Z"
   },
   {
    "duration": 31,
    "start_time": "2022-12-20T10:58:33.789Z"
   },
   {
    "duration": 50,
    "start_time": "2022-12-20T10:58:33.822Z"
   },
   {
    "duration": 19,
    "start_time": "2022-12-20T10:58:33.873Z"
   },
   {
    "duration": 48,
    "start_time": "2022-12-20T10:58:33.893Z"
   },
   {
    "duration": 25,
    "start_time": "2022-12-20T10:58:33.943Z"
   },
   {
    "duration": 41,
    "start_time": "2022-12-20T10:58:33.970Z"
   },
   {
    "duration": 29,
    "start_time": "2022-12-20T10:58:34.013Z"
   },
   {
    "duration": 44,
    "start_time": "2022-12-20T10:58:34.044Z"
   },
   {
    "duration": 14,
    "start_time": "2022-12-20T11:04:35.564Z"
   },
   {
    "duration": 5,
    "start_time": "2022-12-20T11:05:04.746Z"
   },
   {
    "duration": 4,
    "start_time": "2022-12-20T11:05:10.659Z"
   },
   {
    "duration": 5,
    "start_time": "2022-12-20T11:05:20.461Z"
   },
   {
    "duration": 562,
    "start_time": "2022-12-20T11:05:45.420Z"
   },
   {
    "duration": 1645,
    "start_time": "2022-12-20T11:05:45.984Z"
   },
   {
    "duration": 9,
    "start_time": "2022-12-20T11:05:47.631Z"
   },
   {
    "duration": 49,
    "start_time": "2022-12-20T11:05:47.642Z"
   },
   {
    "duration": 10,
    "start_time": "2022-12-20T11:05:47.693Z"
   },
   {
    "duration": 34,
    "start_time": "2022-12-20T11:05:47.705Z"
   },
   {
    "duration": 23,
    "start_time": "2022-12-20T11:05:47.740Z"
   },
   {
    "duration": 48,
    "start_time": "2022-12-20T11:05:47.764Z"
   },
   {
    "duration": 34,
    "start_time": "2022-12-20T11:05:47.825Z"
   },
   {
    "duration": 31,
    "start_time": "2022-12-20T11:05:47.861Z"
   },
   {
    "duration": 36,
    "start_time": "2022-12-20T11:05:47.893Z"
   },
   {
    "duration": 31,
    "start_time": "2022-12-20T11:05:47.930Z"
   },
   {
    "duration": 22,
    "start_time": "2022-12-20T11:05:47.962Z"
   },
   {
    "duration": 10,
    "start_time": "2022-12-20T11:05:47.986Z"
   },
   {
    "duration": 39,
    "start_time": "2022-12-20T11:05:47.998Z"
   },
   {
    "duration": 11,
    "start_time": "2022-12-20T11:05:48.039Z"
   },
   {
    "duration": 12,
    "start_time": "2022-12-20T11:05:48.051Z"
   },
   {
    "duration": 12,
    "start_time": "2022-12-20T11:05:48.065Z"
   },
   {
    "duration": 25,
    "start_time": "2022-12-20T11:05:48.079Z"
   },
   {
    "duration": 11,
    "start_time": "2022-12-20T11:05:48.105Z"
   },
   {
    "duration": 65,
    "start_time": "2022-12-20T11:05:48.118Z"
   },
   {
    "duration": 8,
    "start_time": "2022-12-20T11:05:48.185Z"
   },
   {
    "duration": 253,
    "start_time": "2022-12-20T11:05:48.195Z"
   },
   {
    "duration": 49,
    "start_time": "2022-12-20T11:05:48.449Z"
   },
   {
    "duration": 103,
    "start_time": "2022-12-20T11:05:48.499Z"
   },
   {
    "duration": 75,
    "start_time": "2022-12-20T11:05:48.603Z"
   },
   {
    "duration": 6,
    "start_time": "2022-12-20T11:05:48.679Z"
   },
   {
    "duration": 6,
    "start_time": "2022-12-20T11:05:48.686Z"
   },
   {
    "duration": 42,
    "start_time": "2022-12-20T11:05:48.693Z"
   },
   {
    "duration": 26,
    "start_time": "2022-12-20T11:05:48.737Z"
   },
   {
    "duration": 10,
    "start_time": "2022-12-20T11:05:48.764Z"
   },
   {
    "duration": 9,
    "start_time": "2022-12-20T11:05:48.776Z"
   },
   {
    "duration": 10,
    "start_time": "2022-12-20T11:05:48.787Z"
   },
   {
    "duration": 4,
    "start_time": "2022-12-20T11:05:48.799Z"
   },
   {
    "duration": 4,
    "start_time": "2022-12-20T11:05:48.826Z"
   },
   {
    "duration": 15,
    "start_time": "2022-12-20T11:05:48.831Z"
   },
   {
    "duration": 5,
    "start_time": "2022-12-20T11:05:48.848Z"
   },
   {
    "duration": 14,
    "start_time": "2022-12-20T11:05:48.854Z"
   },
   {
    "duration": 8,
    "start_time": "2022-12-20T11:05:48.869Z"
   },
   {
    "duration": 10,
    "start_time": "2022-12-20T11:07:13.611Z"
   },
   {
    "duration": 14,
    "start_time": "2022-12-20T11:07:58.600Z"
   },
   {
    "duration": 6,
    "start_time": "2022-12-20T11:08:11.951Z"
   },
   {
    "duration": 7,
    "start_time": "2022-12-20T11:08:16.661Z"
   },
   {
    "duration": 7,
    "start_time": "2022-12-20T11:08:22.809Z"
   },
   {
    "duration": 10,
    "start_time": "2022-12-20T11:18:10.194Z"
   },
   {
    "duration": 10,
    "start_time": "2022-12-20T11:18:13.414Z"
   },
   {
    "duration": 8,
    "start_time": "2022-12-20T11:18:25.574Z"
   },
   {
    "duration": 9,
    "start_time": "2022-12-20T11:18:28.644Z"
   },
   {
    "duration": 275,
    "start_time": "2022-12-20T11:20:50.337Z"
   },
   {
    "duration": 10,
    "start_time": "2022-12-20T11:20:58.787Z"
   },
   {
    "duration": 32,
    "start_time": "2022-12-20T11:24:03.221Z"
   },
   {
    "duration": 11,
    "start_time": "2022-12-20T11:24:04.905Z"
   },
   {
    "duration": 16,
    "start_time": "2022-12-20T11:25:44.404Z"
   },
   {
    "duration": 13,
    "start_time": "2022-12-20T11:25:44.615Z"
   },
   {
    "duration": 46,
    "start_time": "2022-12-20T11:26:45.707Z"
   },
   {
    "duration": 34,
    "start_time": "2022-12-20T11:27:08.007Z"
   },
   {
    "duration": 8,
    "start_time": "2022-12-20T12:04:42.961Z"
   },
   {
    "duration": 11,
    "start_time": "2022-12-20T12:04:43.170Z"
   },
   {
    "duration": 14,
    "start_time": "2022-12-20T12:04:43.521Z"
   },
   {
    "duration": 10,
    "start_time": "2022-12-20T12:04:43.922Z"
   },
   {
    "duration": 11,
    "start_time": "2022-12-20T12:05:15.854Z"
   },
   {
    "duration": 23,
    "start_time": "2022-12-20T12:07:52.483Z"
   },
   {
    "duration": 19,
    "start_time": "2022-12-20T12:08:02.775Z"
   },
   {
    "duration": 3,
    "start_time": "2022-12-20T12:08:47.804Z"
   },
   {
    "duration": 1477,
    "start_time": "2022-12-20T12:08:47.810Z"
   },
   {
    "duration": 9,
    "start_time": "2022-12-20T12:08:49.289Z"
   },
   {
    "duration": 16,
    "start_time": "2022-12-20T12:08:49.301Z"
   },
   {
    "duration": 40,
    "start_time": "2022-12-20T12:08:49.319Z"
   },
   {
    "duration": 10,
    "start_time": "2022-12-20T12:08:49.361Z"
   },
   {
    "duration": 12,
    "start_time": "2022-12-20T12:08:49.373Z"
   },
   {
    "duration": 6,
    "start_time": "2022-12-20T12:08:49.386Z"
   },
   {
    "duration": 18,
    "start_time": "2022-12-20T12:08:49.393Z"
   },
   {
    "duration": 6,
    "start_time": "2022-12-20T12:08:49.413Z"
   },
   {
    "duration": 38,
    "start_time": "2022-12-20T12:08:49.420Z"
   },
   {
    "duration": 8,
    "start_time": "2022-12-20T12:08:49.460Z"
   },
   {
    "duration": 28,
    "start_time": "2022-12-20T12:08:49.469Z"
   },
   {
    "duration": 9,
    "start_time": "2022-12-20T12:08:49.498Z"
   },
   {
    "duration": 54,
    "start_time": "2022-12-20T12:08:49.508Z"
   },
   {
    "duration": 16,
    "start_time": "2022-12-20T12:08:49.564Z"
   },
   {
    "duration": 6,
    "start_time": "2022-12-20T12:08:49.582Z"
   },
   {
    "duration": 11,
    "start_time": "2022-12-20T12:08:49.590Z"
   },
   {
    "duration": 14,
    "start_time": "2022-12-20T12:08:49.603Z"
   },
   {
    "duration": 46,
    "start_time": "2022-12-20T12:08:49.619Z"
   },
   {
    "duration": 88,
    "start_time": "2022-12-20T12:08:49.666Z"
   },
   {
    "duration": 11,
    "start_time": "2022-12-20T12:08:49.755Z"
   },
   {
    "duration": 248,
    "start_time": "2022-12-20T12:08:49.768Z"
   },
   {
    "duration": 60,
    "start_time": "2022-12-20T12:08:50.017Z"
   },
   {
    "duration": 118,
    "start_time": "2022-12-20T12:08:50.079Z"
   },
   {
    "duration": 87,
    "start_time": "2022-12-20T12:08:50.199Z"
   },
   {
    "duration": 33,
    "start_time": "2022-12-20T12:08:50.288Z"
   },
   {
    "duration": 62,
    "start_time": "2022-12-20T12:08:50.324Z"
   },
   {
    "duration": 59,
    "start_time": "2022-12-20T12:08:50.388Z"
   },
   {
    "duration": 60,
    "start_time": "2022-12-20T12:08:50.449Z"
   },
   {
    "duration": 22,
    "start_time": "2022-12-20T12:08:50.510Z"
   },
   {
    "duration": 54,
    "start_time": "2022-12-20T12:08:50.535Z"
   },
   {
    "duration": 33,
    "start_time": "2022-12-20T12:08:50.591Z"
   },
   {
    "duration": 37,
    "start_time": "2022-12-20T12:08:50.626Z"
   },
   {
    "duration": 39,
    "start_time": "2022-12-20T12:08:50.664Z"
   },
   {
    "duration": 59,
    "start_time": "2022-12-20T12:08:50.704Z"
   },
   {
    "duration": 35,
    "start_time": "2022-12-20T12:08:50.765Z"
   },
   {
    "duration": 59,
    "start_time": "2022-12-20T12:08:50.801Z"
   },
   {
    "duration": 30,
    "start_time": "2022-12-20T12:08:50.862Z"
   },
   {
    "duration": 97,
    "start_time": "2022-12-20T12:08:50.894Z"
   },
   {
    "duration": 13,
    "start_time": "2022-12-20T12:08:50.993Z"
   },
   {
    "duration": 55,
    "start_time": "2022-12-20T12:08:51.008Z"
   },
   {
    "duration": 60,
    "start_time": "2022-12-20T12:08:51.065Z"
   },
   {
    "duration": 44,
    "start_time": "2022-12-20T12:08:51.133Z"
   },
   {
    "duration": 26,
    "start_time": "2022-12-20T12:08:51.178Z"
   },
   {
    "duration": 255,
    "start_time": "2022-12-20T12:08:51.206Z"
   },
   {
    "duration": 62,
    "start_time": "2022-12-20T12:09:18.605Z"
   },
   {
    "duration": 69,
    "start_time": "2022-12-20T12:09:22.523Z"
   },
   {
    "duration": 8,
    "start_time": "2022-12-20T12:13:10.484Z"
   },
   {
    "duration": 68,
    "start_time": "2022-12-20T12:14:25.506Z"
   },
   {
    "duration": 15,
    "start_time": "2022-12-20T12:14:55.117Z"
   },
   {
    "duration": 77,
    "start_time": "2022-12-20T12:15:11.178Z"
   },
   {
    "duration": 34,
    "start_time": "2022-12-20T12:15:31.648Z"
   },
   {
    "duration": 13,
    "start_time": "2022-12-20T12:15:40.958Z"
   },
   {
    "duration": 21,
    "start_time": "2022-12-20T12:15:54.776Z"
   },
   {
    "duration": 32,
    "start_time": "2022-12-20T12:16:03.547Z"
   },
   {
    "duration": 12,
    "start_time": "2022-12-20T12:17:08.877Z"
   },
   {
    "duration": 1330,
    "start_time": "2022-12-20T12:17:15.546Z"
   },
   {
    "duration": 62,
    "start_time": "2022-12-20T12:17:20.816Z"
   },
   {
    "duration": 61,
    "start_time": "2022-12-20T12:17:28.736Z"
   },
   {
    "duration": 53,
    "start_time": "2022-12-20T12:17:44.126Z"
   },
   {
    "duration": 17,
    "start_time": "2022-12-20T12:17:45.576Z"
   },
   {
    "duration": 11,
    "start_time": "2022-12-20T12:18:09.670Z"
   },
   {
    "duration": 77,
    "start_time": "2022-12-20T12:18:19.727Z"
   },
   {
    "duration": 11,
    "start_time": "2022-12-20T12:18:24.228Z"
   },
   {
    "duration": 8,
    "start_time": "2022-12-20T12:18:39.270Z"
   },
   {
    "duration": 68,
    "start_time": "2022-12-20T12:20:14.120Z"
   },
   {
    "duration": 71,
    "start_time": "2022-12-20T12:20:23.488Z"
   },
   {
    "duration": 7,
    "start_time": "2022-12-20T12:20:29.658Z"
   },
   {
    "duration": 4,
    "start_time": "2022-12-20T12:22:01.058Z"
   },
   {
    "duration": 58,
    "start_time": "2022-12-20T12:23:46.185Z"
   },
   {
    "duration": 21,
    "start_time": "2022-12-20T12:24:22.749Z"
   },
   {
    "duration": 69,
    "start_time": "2022-12-20T12:24:30.586Z"
   },
   {
    "duration": 66208,
    "start_time": "2022-12-20T12:24:45.412Z"
   },
   {
    "duration": 9,
    "start_time": "2022-12-20T12:26:15.121Z"
   },
   {
    "duration": 3593,
    "start_time": "2022-12-20T12:26:26.576Z"
   },
   {
    "duration": 7,
    "start_time": "2022-12-20T12:26:43.782Z"
   },
   {
    "duration": 90,
    "start_time": "2022-12-20T12:26:52.622Z"
   },
   {
    "duration": 9,
    "start_time": "2022-12-20T12:29:38.742Z"
   },
   {
    "duration": 11,
    "start_time": "2022-12-20T12:29:45.572Z"
   },
   {
    "duration": 3706,
    "start_time": "2022-12-20T12:30:18.553Z"
   },
   {
    "duration": 3637,
    "start_time": "2022-12-20T12:33:46.643Z"
   },
   {
    "duration": 3631,
    "start_time": "2022-12-20T12:34:01.973Z"
   },
   {
    "duration": 7285,
    "start_time": "2022-12-20T12:36:07.856Z"
   },
   {
    "duration": 5,
    "start_time": "2022-12-20T12:36:25.645Z"
   },
   {
    "duration": 5,
    "start_time": "2022-12-20T12:36:31.293Z"
   },
   {
    "duration": 4,
    "start_time": "2022-12-20T12:36:34.011Z"
   },
   {
    "duration": 5,
    "start_time": "2022-12-20T12:36:36.615Z"
   },
   {
    "duration": 4,
    "start_time": "2022-12-20T12:36:40.057Z"
   },
   {
    "duration": 5,
    "start_time": "2022-12-20T12:36:49.846Z"
   },
   {
    "duration": 5,
    "start_time": "2022-12-20T12:36:57.925Z"
   },
   {
    "duration": 1267,
    "start_time": "2022-12-20T12:37:17.926Z"
   },
   {
    "duration": 6,
    "start_time": "2022-12-20T12:37:27.367Z"
   },
   {
    "duration": 6,
    "start_time": "2022-12-20T12:37:35.156Z"
   },
   {
    "duration": 113,
    "start_time": "2022-12-20T12:37:55.074Z"
   },
   {
    "duration": 7,
    "start_time": "2022-12-20T12:38:13.782Z"
   },
   {
    "duration": 8,
    "start_time": "2022-12-20T12:38:20.874Z"
   },
   {
    "duration": 66,
    "start_time": "2022-12-20T12:39:24.677Z"
   },
   {
    "duration": 1245,
    "start_time": "2022-12-20T12:39:38.469Z"
   },
   {
    "duration": 56,
    "start_time": "2022-12-20T12:39:44.596Z"
   },
   {
    "duration": 1269,
    "start_time": "2022-12-20T12:39:47.657Z"
   },
   {
    "duration": 20,
    "start_time": "2022-12-20T12:39:55.297Z"
   },
   {
    "duration": 1413,
    "start_time": "2022-12-20T12:40:34.420Z"
   },
   {
    "duration": 19,
    "start_time": "2022-12-20T12:40:41.178Z"
   },
   {
    "duration": 1413,
    "start_time": "2022-12-20T12:41:31.837Z"
   },
   {
    "duration": 1434,
    "start_time": "2022-12-20T12:41:51.268Z"
   },
   {
    "duration": 1458,
    "start_time": "2022-12-20T12:41:58.128Z"
   },
   {
    "duration": 11,
    "start_time": "2022-12-20T12:42:13.608Z"
   },
   {
    "duration": 22,
    "start_time": "2022-12-20T12:42:23.101Z"
   },
   {
    "duration": 96,
    "start_time": "2022-12-20T12:42:38.796Z"
   },
   {
    "duration": 54,
    "start_time": "2022-12-20T12:42:51.079Z"
   },
   {
    "duration": 67,
    "start_time": "2022-12-20T12:42:51.297Z"
   },
   {
    "duration": 36,
    "start_time": "2022-12-20T12:42:59.701Z"
   },
   {
    "duration": 155,
    "start_time": "2022-12-20T12:43:07.547Z"
   },
   {
    "duration": 55,
    "start_time": "2022-12-20T12:43:18.438Z"
   },
   {
    "duration": 71,
    "start_time": "2022-12-20T12:45:07.549Z"
   },
   {
    "duration": 86507,
    "start_time": "2022-12-20T12:45:11.228Z"
   },
   {
    "duration": 2850,
    "start_time": "2022-12-20T12:47:24.059Z"
   },
   {
    "duration": 13092,
    "start_time": "2022-12-20T12:48:04.741Z"
   },
   {
    "duration": 8,
    "start_time": "2022-12-20T12:49:44.741Z"
   },
   {
    "duration": 3,
    "start_time": "2022-12-20T12:49:49.320Z"
   },
   {
    "duration": 161073,
    "start_time": "2022-12-20T12:49:54.040Z"
   },
   {
    "duration": 20,
    "start_time": "2022-12-20T12:52:35.115Z"
   },
   {
    "duration": 7,
    "start_time": "2022-12-20T12:54:27.294Z"
   },
   {
    "duration": 5,
    "start_time": "2022-12-20T12:54:36.232Z"
   },
   {
    "duration": 5,
    "start_time": "2022-12-20T12:57:42.435Z"
   },
   {
    "duration": 19,
    "start_time": "2022-12-20T12:57:57.695Z"
   },
   {
    "duration": 64,
    "start_time": "2022-12-20T13:03:02.048Z"
   },
   {
    "duration": 30,
    "start_time": "2022-12-20T13:03:10.058Z"
   },
   {
    "duration": 35,
    "start_time": "2022-12-20T13:03:15.568Z"
   },
   {
    "duration": 32,
    "start_time": "2022-12-20T13:03:19.788Z"
   },
   {
    "duration": 876,
    "start_time": "2022-12-20T13:03:25.189Z"
   },
   {
    "duration": 1140,
    "start_time": "2022-12-20T13:03:32.518Z"
   },
   {
    "duration": 30,
    "start_time": "2022-12-20T13:03:38.699Z"
   },
   {
    "duration": 30,
    "start_time": "2022-12-20T13:03:44.287Z"
   },
   {
    "duration": 43,
    "start_time": "2022-12-20T13:03:58.380Z"
   },
   {
    "duration": 29,
    "start_time": "2022-12-20T13:04:10.949Z"
   },
   {
    "duration": 30,
    "start_time": "2022-12-20T13:04:16.710Z"
   },
   {
    "duration": 145,
    "start_time": "2022-12-20T13:04:50.799Z"
   },
   {
    "duration": 8,
    "start_time": "2022-12-20T13:06:16.717Z"
   },
   {
    "duration": 478,
    "start_time": "2022-12-20T13:06:16.726Z"
   },
   {
    "duration": 1317,
    "start_time": "2022-12-20T13:06:17.206Z"
   },
   {
    "duration": 11,
    "start_time": "2022-12-20T13:06:18.525Z"
   },
   {
    "duration": 15,
    "start_time": "2022-12-20T13:06:18.538Z"
   },
   {
    "duration": 5,
    "start_time": "2022-12-20T13:06:18.555Z"
   },
   {
    "duration": 6,
    "start_time": "2022-12-20T13:06:18.561Z"
   },
   {
    "duration": 11,
    "start_time": "2022-12-20T13:06:18.569Z"
   },
   {
    "duration": 13,
    "start_time": "2022-12-20T13:06:18.581Z"
   },
   {
    "duration": 5,
    "start_time": "2022-12-20T13:06:18.597Z"
   },
   {
    "duration": 23,
    "start_time": "2022-12-20T13:06:18.604Z"
   },
   {
    "duration": 22,
    "start_time": "2022-12-20T13:06:18.628Z"
   },
   {
    "duration": 11,
    "start_time": "2022-12-20T13:06:18.652Z"
   },
   {
    "duration": 25,
    "start_time": "2022-12-20T13:06:18.665Z"
   },
   {
    "duration": 7,
    "start_time": "2022-12-20T13:06:18.692Z"
   },
   {
    "duration": 36,
    "start_time": "2022-12-20T13:06:18.701Z"
   },
   {
    "duration": 10,
    "start_time": "2022-12-20T13:06:18.740Z"
   },
   {
    "duration": 6,
    "start_time": "2022-12-20T13:06:18.752Z"
   },
   {
    "duration": 7,
    "start_time": "2022-12-20T13:06:18.760Z"
   },
   {
    "duration": 5,
    "start_time": "2022-12-20T13:06:18.768Z"
   },
   {
    "duration": 5,
    "start_time": "2022-12-20T13:06:18.775Z"
   },
   {
    "duration": 82,
    "start_time": "2022-12-20T13:06:18.782Z"
   },
   {
    "duration": 9,
    "start_time": "2022-12-20T13:06:18.865Z"
   },
   {
    "duration": 264,
    "start_time": "2022-12-20T13:06:18.876Z"
   },
   {
    "duration": 45,
    "start_time": "2022-12-20T13:06:19.143Z"
   },
   {
    "duration": 101,
    "start_time": "2022-12-20T13:06:19.190Z"
   },
   {
    "duration": 76,
    "start_time": "2022-12-20T13:06:19.293Z"
   },
   {
    "duration": 9,
    "start_time": "2022-12-20T13:06:19.373Z"
   },
   {
    "duration": 5,
    "start_time": "2022-12-20T13:06:19.384Z"
   },
   {
    "duration": 41,
    "start_time": "2022-12-20T13:06:19.391Z"
   },
   {
    "duration": 24,
    "start_time": "2022-12-20T13:06:19.434Z"
   },
   {
    "duration": 11,
    "start_time": "2022-12-20T13:06:19.459Z"
   },
   {
    "duration": 9,
    "start_time": "2022-12-20T13:06:19.472Z"
   },
   {
    "duration": 14,
    "start_time": "2022-12-20T13:06:19.482Z"
   },
   {
    "duration": 4,
    "start_time": "2022-12-20T13:06:19.497Z"
   },
   {
    "duration": 32,
    "start_time": "2022-12-20T13:06:19.502Z"
   },
   {
    "duration": 16,
    "start_time": "2022-12-20T13:06:19.535Z"
   },
   {
    "duration": 6,
    "start_time": "2022-12-20T13:06:19.553Z"
   },
   {
    "duration": 13,
    "start_time": "2022-12-20T13:06:19.560Z"
   },
   {
    "duration": 6,
    "start_time": "2022-12-20T13:06:19.575Z"
   },
   {
    "duration": 11,
    "start_time": "2022-12-20T13:08:20.020Z"
   },
   {
    "duration": 30,
    "start_time": "2022-12-20T13:08:24.658Z"
   },
   {
    "duration": 10,
    "start_time": "2022-12-20T13:09:32.111Z"
   },
   {
    "duration": 584,
    "start_time": "2022-12-20T13:09:32.123Z"
   },
   {
    "duration": 1123,
    "start_time": "2022-12-20T13:09:32.708Z"
   },
   {
    "duration": 14,
    "start_time": "2022-12-20T13:09:33.833Z"
   },
   {
    "duration": 21,
    "start_time": "2022-12-20T13:09:33.848Z"
   },
   {
    "duration": 4,
    "start_time": "2022-12-20T13:09:33.871Z"
   },
   {
    "duration": 6,
    "start_time": "2022-12-20T13:09:33.877Z"
   },
   {
    "duration": 11,
    "start_time": "2022-12-20T13:09:33.884Z"
   },
   {
    "duration": 7,
    "start_time": "2022-12-20T13:09:33.896Z"
   },
   {
    "duration": 21,
    "start_time": "2022-12-20T13:09:33.906Z"
   },
   {
    "duration": 7,
    "start_time": "2022-12-20T13:09:33.929Z"
   },
   {
    "duration": 8,
    "start_time": "2022-12-20T13:09:33.937Z"
   },
   {
    "duration": 7,
    "start_time": "2022-12-20T13:09:33.946Z"
   },
   {
    "duration": 20,
    "start_time": "2022-12-20T13:09:33.955Z"
   },
   {
    "duration": 8,
    "start_time": "2022-12-20T13:09:33.976Z"
   },
   {
    "duration": 53,
    "start_time": "2022-12-20T13:09:33.985Z"
   },
   {
    "duration": 10,
    "start_time": "2022-12-20T13:09:34.040Z"
   },
   {
    "duration": 6,
    "start_time": "2022-12-20T13:09:34.052Z"
   },
   {
    "duration": 13,
    "start_time": "2022-12-20T13:09:34.060Z"
   },
   {
    "duration": 13,
    "start_time": "2022-12-20T13:09:34.074Z"
   },
   {
    "duration": 13,
    "start_time": "2022-12-20T13:09:34.089Z"
   },
   {
    "duration": 84,
    "start_time": "2022-12-20T13:09:34.104Z"
   },
   {
    "duration": 9,
    "start_time": "2022-12-20T13:09:34.189Z"
   },
   {
    "duration": 277,
    "start_time": "2022-12-20T13:09:34.200Z"
   },
   {
    "duration": 52,
    "start_time": "2022-12-20T13:09:34.479Z"
   },
   {
    "duration": 173,
    "start_time": "2022-12-20T13:09:34.533Z"
   },
   {
    "duration": 83,
    "start_time": "2022-12-20T13:09:34.707Z"
   },
   {
    "duration": 12,
    "start_time": "2022-12-20T13:09:34.793Z"
   },
   {
    "duration": 12,
    "start_time": "2022-12-20T13:09:34.806Z"
   },
   {
    "duration": 27,
    "start_time": "2022-12-20T13:09:34.819Z"
   },
   {
    "duration": 23,
    "start_time": "2022-12-20T13:09:34.847Z"
   },
   {
    "duration": 10,
    "start_time": "2022-12-20T13:09:34.872Z"
   },
   {
    "duration": 10,
    "start_time": "2022-12-20T13:09:34.884Z"
   },
   {
    "duration": 34,
    "start_time": "2022-12-20T13:09:34.895Z"
   },
   {
    "duration": 4,
    "start_time": "2022-12-20T13:09:34.931Z"
   },
   {
    "duration": 7,
    "start_time": "2022-12-20T13:09:34.936Z"
   },
   {
    "duration": 11,
    "start_time": "2022-12-20T13:09:34.944Z"
   },
   {
    "duration": 4,
    "start_time": "2022-12-20T13:09:34.957Z"
   },
   {
    "duration": 11,
    "start_time": "2022-12-20T13:09:34.962Z"
   },
   {
    "duration": 7,
    "start_time": "2022-12-20T13:09:34.974Z"
   },
   {
    "duration": 62,
    "start_time": "2022-12-20T13:09:34.982Z"
   },
   {
    "duration": 8,
    "start_time": "2022-12-20T13:09:53.198Z"
   },
   {
    "duration": 600,
    "start_time": "2022-12-20T13:09:53.208Z"
   },
   {
    "duration": 1016,
    "start_time": "2022-12-20T13:09:53.810Z"
   },
   {
    "duration": 10,
    "start_time": "2022-12-20T13:09:54.828Z"
   },
   {
    "duration": 30,
    "start_time": "2022-12-20T13:09:54.840Z"
   },
   {
    "duration": 25,
    "start_time": "2022-12-20T13:09:54.872Z"
   },
   {
    "duration": 19,
    "start_time": "2022-12-20T13:09:54.899Z"
   },
   {
    "duration": 23,
    "start_time": "2022-12-20T13:09:54.920Z"
   },
   {
    "duration": 16,
    "start_time": "2022-12-20T13:09:54.945Z"
   },
   {
    "duration": 19,
    "start_time": "2022-12-20T13:09:54.962Z"
   },
   {
    "duration": 16,
    "start_time": "2022-12-20T13:09:54.982Z"
   },
   {
    "duration": 10,
    "start_time": "2022-12-20T13:09:55.000Z"
   },
   {
    "duration": 5,
    "start_time": "2022-12-20T13:09:55.012Z"
   },
   {
    "duration": 24,
    "start_time": "2022-12-20T13:09:55.020Z"
   },
   {
    "duration": 16,
    "start_time": "2022-12-20T13:09:55.046Z"
   },
   {
    "duration": 40,
    "start_time": "2022-12-20T13:09:55.063Z"
   },
   {
    "duration": 14,
    "start_time": "2022-12-20T13:09:55.105Z"
   },
   {
    "duration": 35,
    "start_time": "2022-12-20T13:09:55.120Z"
   },
   {
    "duration": 15,
    "start_time": "2022-12-20T13:09:55.157Z"
   },
   {
    "duration": 36,
    "start_time": "2022-12-20T13:09:55.174Z"
   },
   {
    "duration": 14,
    "start_time": "2022-12-20T13:09:55.213Z"
   },
   {
    "duration": 70,
    "start_time": "2022-12-20T13:09:55.229Z"
   },
   {
    "duration": 9,
    "start_time": "2022-12-20T13:09:55.301Z"
   },
   {
    "duration": 331,
    "start_time": "2022-12-20T13:09:55.312Z"
   },
   {
    "duration": 66,
    "start_time": "2022-12-20T13:09:55.646Z"
   },
   {
    "duration": 123,
    "start_time": "2022-12-20T13:09:55.715Z"
   },
   {
    "duration": 97,
    "start_time": "2022-12-20T13:09:55.841Z"
   },
   {
    "duration": 17,
    "start_time": "2022-12-20T13:09:55.940Z"
   },
   {
    "duration": 9,
    "start_time": "2022-12-20T13:09:55.958Z"
   },
   {
    "duration": 26,
    "start_time": "2022-12-20T13:09:55.969Z"
   },
   {
    "duration": 45,
    "start_time": "2022-12-20T13:09:55.997Z"
   },
   {
    "duration": 18,
    "start_time": "2022-12-20T13:09:56.045Z"
   },
   {
    "duration": 23,
    "start_time": "2022-12-20T13:09:56.065Z"
   },
   {
    "duration": 38,
    "start_time": "2022-12-20T13:09:56.091Z"
   },
   {
    "duration": 9,
    "start_time": "2022-12-20T13:09:56.132Z"
   },
   {
    "duration": 15,
    "start_time": "2022-12-20T13:09:56.143Z"
   },
   {
    "duration": 14,
    "start_time": "2022-12-20T13:09:56.160Z"
   },
   {
    "duration": 13,
    "start_time": "2022-12-20T13:09:56.176Z"
   },
   {
    "duration": 21,
    "start_time": "2022-12-20T13:09:56.190Z"
   },
   {
    "duration": 21,
    "start_time": "2022-12-20T13:09:56.213Z"
   },
   {
    "duration": 34,
    "start_time": "2022-12-20T13:09:56.238Z"
   },
   {
    "duration": 8,
    "start_time": "2022-12-20T13:09:56.274Z"
   },
   {
    "duration": 40,
    "start_time": "2022-12-20T13:11:27.504Z"
   },
   {
    "duration": 56,
    "start_time": "2022-12-20T13:12:43.202Z"
   },
   {
    "duration": 49,
    "start_time": "2022-12-20T13:13:26.466Z"
   },
   {
    "duration": 37,
    "start_time": "2022-12-20T13:13:43.022Z"
   },
   {
    "duration": 7,
    "start_time": "2022-12-20T13:14:46.832Z"
   },
   {
    "duration": 453,
    "start_time": "2022-12-20T13:14:46.841Z"
   },
   {
    "duration": 1043,
    "start_time": "2022-12-20T13:14:47.296Z"
   },
   {
    "duration": 11,
    "start_time": "2022-12-20T13:14:48.340Z"
   },
   {
    "duration": 34,
    "start_time": "2022-12-20T13:14:48.353Z"
   },
   {
    "duration": 5,
    "start_time": "2022-12-20T13:14:48.391Z"
   },
   {
    "duration": 29,
    "start_time": "2022-12-20T13:14:48.397Z"
   },
   {
    "duration": 19,
    "start_time": "2022-12-20T13:14:48.427Z"
   },
   {
    "duration": 34,
    "start_time": "2022-12-20T13:14:48.448Z"
   },
   {
    "duration": 34,
    "start_time": "2022-12-20T13:14:48.484Z"
   },
   {
    "duration": 9,
    "start_time": "2022-12-20T13:14:48.520Z"
   },
   {
    "duration": 12,
    "start_time": "2022-12-20T13:14:48.531Z"
   },
   {
    "duration": 21,
    "start_time": "2022-12-20T13:14:48.546Z"
   },
   {
    "duration": 29,
    "start_time": "2022-12-20T13:14:48.568Z"
   },
   {
    "duration": 29,
    "start_time": "2022-12-20T13:14:48.599Z"
   },
   {
    "duration": 41,
    "start_time": "2022-12-20T13:14:48.630Z"
   },
   {
    "duration": 11,
    "start_time": "2022-12-20T13:14:48.673Z"
   },
   {
    "duration": 20,
    "start_time": "2022-12-20T13:14:48.685Z"
   },
   {
    "duration": 35,
    "start_time": "2022-12-20T13:14:48.707Z"
   },
   {
    "duration": 19,
    "start_time": "2022-12-20T13:14:48.743Z"
   },
   {
    "duration": 26,
    "start_time": "2022-12-20T13:14:48.764Z"
   },
   {
    "duration": 72,
    "start_time": "2022-12-20T13:14:48.792Z"
   },
   {
    "duration": 8,
    "start_time": "2022-12-20T13:14:48.866Z"
   },
   {
    "duration": 280,
    "start_time": "2022-12-20T13:14:48.876Z"
   },
   {
    "duration": 44,
    "start_time": "2022-12-20T13:14:49.158Z"
   },
   {
    "duration": 104,
    "start_time": "2022-12-20T13:14:49.203Z"
   },
   {
    "duration": 71,
    "start_time": "2022-12-20T13:14:49.308Z"
   },
   {
    "duration": 28,
    "start_time": "2022-12-20T13:14:49.380Z"
   },
   {
    "duration": 25,
    "start_time": "2022-12-20T13:14:49.410Z"
   },
   {
    "duration": 41,
    "start_time": "2022-12-20T13:14:49.437Z"
   },
   {
    "duration": 34,
    "start_time": "2022-12-20T13:14:49.479Z"
   },
   {
    "duration": 11,
    "start_time": "2022-12-20T13:14:49.515Z"
   },
   {
    "duration": 39,
    "start_time": "2022-12-20T13:14:49.527Z"
   },
   {
    "duration": 20,
    "start_time": "2022-12-20T13:14:49.568Z"
   },
   {
    "duration": 33,
    "start_time": "2022-12-20T13:14:49.590Z"
   },
   {
    "duration": 23,
    "start_time": "2022-12-20T13:14:49.625Z"
   },
   {
    "duration": 25,
    "start_time": "2022-12-20T13:14:49.649Z"
   },
   {
    "duration": 26,
    "start_time": "2022-12-20T13:14:49.675Z"
   },
   {
    "duration": 87,
    "start_time": "2022-12-20T13:14:49.702Z"
   },
   {
    "duration": 0,
    "start_time": "2022-12-20T13:14:49.791Z"
   },
   {
    "duration": 0,
    "start_time": "2022-12-20T13:14:49.792Z"
   },
   {
    "duration": 11,
    "start_time": "2022-12-20T13:14:58.494Z"
   },
   {
    "duration": 7,
    "start_time": "2022-12-20T13:14:59.234Z"
   },
   {
    "duration": 39,
    "start_time": "2022-12-20T13:15:00.114Z"
   },
   {
    "duration": 47,
    "start_time": "2022-12-20T13:16:11.274Z"
   },
   {
    "duration": 38,
    "start_time": "2022-12-20T13:17:14.265Z"
   },
   {
    "duration": 45,
    "start_time": "2022-12-20T13:17:36.504Z"
   },
   {
    "duration": 45,
    "start_time": "2022-12-20T13:17:50.217Z"
   },
   {
    "duration": 30,
    "start_time": "2022-12-20T13:19:04.586Z"
   },
   {
    "duration": 16,
    "start_time": "2022-12-20T13:19:08.666Z"
   },
   {
    "duration": 97,
    "start_time": "2022-12-20T13:19:29.217Z"
   },
   {
    "duration": 33,
    "start_time": "2022-12-20T13:19:35.386Z"
   },
   {
    "duration": 15,
    "start_time": "2022-12-20T13:19:39.997Z"
   },
   {
    "duration": 13,
    "start_time": "2022-12-20T13:19:59.657Z"
   },
   {
    "duration": 14,
    "start_time": "2022-12-20T13:20:15.129Z"
   },
   {
    "duration": 37,
    "start_time": "2022-12-20T13:20:26.038Z"
   },
   {
    "duration": 12,
    "start_time": "2022-12-20T13:20:37.986Z"
   },
   {
    "duration": 74,
    "start_time": "2022-12-20T13:24:05.419Z"
   },
   {
    "duration": 73,
    "start_time": "2022-12-20T13:24:09.419Z"
   },
   {
    "duration": 37,
    "start_time": "2022-12-20T13:24:13.799Z"
   },
   {
    "duration": 7,
    "start_time": "2022-12-20T13:24:24.737Z"
   },
   {
    "duration": 69,
    "start_time": "2022-12-20T13:24:41.299Z"
   },
   {
    "duration": 71,
    "start_time": "2022-12-20T13:24:49.840Z"
   },
   {
    "duration": 26,
    "start_time": "2022-12-20T13:24:51.878Z"
   },
   {
    "duration": 45,
    "start_time": "2022-12-20T13:25:02.528Z"
   },
   {
    "duration": 14,
    "start_time": "2022-12-20T13:25:07.918Z"
   },
   {
    "duration": 24300,
    "start_time": "2022-12-20T13:25:17.368Z"
   },
   {
    "duration": 8,
    "start_time": "2022-12-20T13:28:40.461Z"
   },
   {
    "duration": 29099,
    "start_time": "2022-12-20T13:28:48.366Z"
   },
   {
    "duration": 10,
    "start_time": "2022-12-20T13:30:02.301Z"
   },
   {
    "duration": 485,
    "start_time": "2022-12-20T13:30:02.314Z"
   },
   {
    "duration": 1156,
    "start_time": "2022-12-20T13:30:02.801Z"
   },
   {
    "duration": 11,
    "start_time": "2022-12-20T13:30:03.959Z"
   },
   {
    "duration": 18,
    "start_time": "2022-12-20T13:30:03.972Z"
   },
   {
    "duration": 7,
    "start_time": "2022-12-20T13:30:03.992Z"
   },
   {
    "duration": 10,
    "start_time": "2022-12-20T13:30:04.001Z"
   },
   {
    "duration": 8,
    "start_time": "2022-12-20T13:30:04.013Z"
   },
   {
    "duration": 30,
    "start_time": "2022-12-20T13:30:04.026Z"
   },
   {
    "duration": 17,
    "start_time": "2022-12-20T13:30:04.057Z"
   },
   {
    "duration": 26,
    "start_time": "2022-12-20T13:30:04.076Z"
   },
   {
    "duration": 30,
    "start_time": "2022-12-20T13:30:04.103Z"
   },
   {
    "duration": 14,
    "start_time": "2022-12-20T13:30:04.135Z"
   },
   {
    "duration": 26,
    "start_time": "2022-12-20T13:30:04.151Z"
   },
   {
    "duration": 22,
    "start_time": "2022-12-20T13:30:04.179Z"
   },
   {
    "duration": 56,
    "start_time": "2022-12-20T13:30:04.203Z"
   },
   {
    "duration": 11,
    "start_time": "2022-12-20T13:30:04.261Z"
   },
   {
    "duration": 20,
    "start_time": "2022-12-20T13:30:04.274Z"
   },
   {
    "duration": 52,
    "start_time": "2022-12-20T13:30:04.295Z"
   },
   {
    "duration": 22,
    "start_time": "2022-12-20T13:30:04.349Z"
   },
   {
    "duration": 17,
    "start_time": "2022-12-20T13:30:04.373Z"
   },
   {
    "duration": 68,
    "start_time": "2022-12-20T13:30:04.391Z"
   },
   {
    "duration": 7,
    "start_time": "2022-12-20T13:30:04.461Z"
   },
   {
    "duration": 270,
    "start_time": "2022-12-20T13:30:04.470Z"
   },
   {
    "duration": 45,
    "start_time": "2022-12-20T13:30:04.742Z"
   },
   {
    "duration": 95,
    "start_time": "2022-12-20T13:30:04.788Z"
   },
   {
    "duration": 79,
    "start_time": "2022-12-20T13:30:04.887Z"
   },
   {
    "duration": 12,
    "start_time": "2022-12-20T13:30:04.968Z"
   },
   {
    "duration": 23,
    "start_time": "2022-12-20T13:30:04.982Z"
   },
   {
    "duration": 46,
    "start_time": "2022-12-20T13:30:05.007Z"
   },
   {
    "duration": 44,
    "start_time": "2022-12-20T13:30:05.055Z"
   },
   {
    "duration": 13,
    "start_time": "2022-12-20T13:30:05.101Z"
   },
   {
    "duration": 18,
    "start_time": "2022-12-20T13:30:05.115Z"
   },
   {
    "duration": 41,
    "start_time": "2022-12-20T13:30:05.135Z"
   },
   {
    "duration": 13,
    "start_time": "2022-12-20T13:30:05.178Z"
   },
   {
    "duration": 28,
    "start_time": "2022-12-20T13:30:05.192Z"
   },
   {
    "duration": 17,
    "start_time": "2022-12-20T13:30:05.221Z"
   },
   {
    "duration": 4,
    "start_time": "2022-12-20T13:30:05.239Z"
   },
   {
    "duration": 11,
    "start_time": "2022-12-20T13:30:05.245Z"
   },
   {
    "duration": 18,
    "start_time": "2022-12-20T13:30:05.257Z"
   },
   {
    "duration": 12,
    "start_time": "2022-12-20T13:30:05.277Z"
   },
   {
    "duration": 52,
    "start_time": "2022-12-20T13:30:05.290Z"
   }
  ],
  "kernelspec": {
   "display_name": "Python 3 (ipykernel)",
   "language": "python",
   "name": "python3"
  },
  "language_info": {
   "codemirror_mode": {
    "name": "ipython",
    "version": 3
   },
   "file_extension": ".py",
   "mimetype": "text/x-python",
   "name": "python",
   "nbconvert_exporter": "python",
   "pygments_lexer": "ipython3",
   "version": "3.10.4"
  },
  "toc": {
   "base_numbering": 1,
   "nav_menu": {},
   "number_sections": true,
   "sideBar": true,
   "skip_h1_title": true,
   "title_cell": "Table of Contents",
   "title_sidebar": "Contents",
   "toc_cell": false,
   "toc_position": {},
   "toc_section_display": true,
   "toc_window_display": true
  }
 },
 "nbformat": 4,
 "nbformat_minor": 2
}
